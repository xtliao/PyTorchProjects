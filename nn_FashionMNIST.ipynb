{
  "nbformat": 4,
  "nbformat_minor": 0,
  "metadata": {
    "colab": {
      "provenance": [],
      "toc_visible": true,
      "gpuType": "T4",
      "authorship_tag": "ABX9TyOqosY4HleDaKgrDigzjedl",
      "include_colab_link": true
    },
    "kernelspec": {
      "name": "python3",
      "display_name": "Python 3"
    },
    "language_info": {
      "name": "python"
    },
    "accelerator": "GPU",
    "widgets": {
      "application/vnd.jupyter.widget-state+json": {
        "45ae2920bcce40f5bd7aaa6d5b0c6c01": {
          "model_module": "@jupyter-widgets/controls",
          "model_name": "HBoxModel",
          "model_module_version": "1.5.0",
          "state": {
            "_dom_classes": [],
            "_model_module": "@jupyter-widgets/controls",
            "_model_module_version": "1.5.0",
            "_model_name": "HBoxModel",
            "_view_count": null,
            "_view_module": "@jupyter-widgets/controls",
            "_view_module_version": "1.5.0",
            "_view_name": "HBoxView",
            "box_style": "",
            "children": [
              "IPY_MODEL_afd3085b2e9a4fe78d696eb42585d41f",
              "IPY_MODEL_637d978f78c341a1b971b535b82b8161",
              "IPY_MODEL_d07fdf69b6f74aed83edd2f9708dd9e4"
            ],
            "layout": "IPY_MODEL_acb1effab506449a83a9ecd2858dea16"
          }
        },
        "afd3085b2e9a4fe78d696eb42585d41f": {
          "model_module": "@jupyter-widgets/controls",
          "model_name": "HTMLModel",
          "model_module_version": "1.5.0",
          "state": {
            "_dom_classes": [],
            "_model_module": "@jupyter-widgets/controls",
            "_model_module_version": "1.5.0",
            "_model_name": "HTMLModel",
            "_view_count": null,
            "_view_module": "@jupyter-widgets/controls",
            "_view_module_version": "1.5.0",
            "_view_name": "HTMLView",
            "description": "",
            "description_tooltip": null,
            "layout": "IPY_MODEL_7756307ef1a6444589728edbae480bc9",
            "placeholder": "​",
            "style": "IPY_MODEL_98109c8ae26141f18f39f54dc3d8304b",
            "value": "Training model...: 100%"
          }
        },
        "637d978f78c341a1b971b535b82b8161": {
          "model_module": "@jupyter-widgets/controls",
          "model_name": "FloatProgressModel",
          "model_module_version": "1.5.0",
          "state": {
            "_dom_classes": [],
            "_model_module": "@jupyter-widgets/controls",
            "_model_module_version": "1.5.0",
            "_model_name": "FloatProgressModel",
            "_view_count": null,
            "_view_module": "@jupyter-widgets/controls",
            "_view_module_version": "1.5.0",
            "_view_name": "ProgressView",
            "bar_style": "success",
            "description": "",
            "description_tooltip": null,
            "layout": "IPY_MODEL_1f2e7413abac41c8a00efeeb973b31dc",
            "max": 5,
            "min": 0,
            "orientation": "horizontal",
            "style": "IPY_MODEL_5ed31b28ed5d4206b713e26c9c0340cc",
            "value": 5
          }
        },
        "d07fdf69b6f74aed83edd2f9708dd9e4": {
          "model_module": "@jupyter-widgets/controls",
          "model_name": "HTMLModel",
          "model_module_version": "1.5.0",
          "state": {
            "_dom_classes": [],
            "_model_module": "@jupyter-widgets/controls",
            "_model_module_version": "1.5.0",
            "_model_name": "HTMLModel",
            "_view_count": null,
            "_view_module": "@jupyter-widgets/controls",
            "_view_module_version": "1.5.0",
            "_view_name": "HTMLView",
            "description": "",
            "description_tooltip": null,
            "layout": "IPY_MODEL_021e591920f744cf88285dff1417e041",
            "placeholder": "​",
            "style": "IPY_MODEL_4fe2d80d60d9489996bab95c340dc10f",
            "value": " 5/5 [01:17&lt;00:00, 15.47s/it]"
          }
        },
        "acb1effab506449a83a9ecd2858dea16": {
          "model_module": "@jupyter-widgets/base",
          "model_name": "LayoutModel",
          "model_module_version": "1.2.0",
          "state": {
            "_model_module": "@jupyter-widgets/base",
            "_model_module_version": "1.2.0",
            "_model_name": "LayoutModel",
            "_view_count": null,
            "_view_module": "@jupyter-widgets/base",
            "_view_module_version": "1.2.0",
            "_view_name": "LayoutView",
            "align_content": null,
            "align_items": null,
            "align_self": null,
            "border": null,
            "bottom": null,
            "display": null,
            "flex": null,
            "flex_flow": null,
            "grid_area": null,
            "grid_auto_columns": null,
            "grid_auto_flow": null,
            "grid_auto_rows": null,
            "grid_column": null,
            "grid_gap": null,
            "grid_row": null,
            "grid_template_areas": null,
            "grid_template_columns": null,
            "grid_template_rows": null,
            "height": null,
            "justify_content": null,
            "justify_items": null,
            "left": null,
            "margin": null,
            "max_height": null,
            "max_width": null,
            "min_height": null,
            "min_width": null,
            "object_fit": null,
            "object_position": null,
            "order": null,
            "overflow": null,
            "overflow_x": null,
            "overflow_y": null,
            "padding": null,
            "right": null,
            "top": null,
            "visibility": null,
            "width": null
          }
        },
        "7756307ef1a6444589728edbae480bc9": {
          "model_module": "@jupyter-widgets/base",
          "model_name": "LayoutModel",
          "model_module_version": "1.2.0",
          "state": {
            "_model_module": "@jupyter-widgets/base",
            "_model_module_version": "1.2.0",
            "_model_name": "LayoutModel",
            "_view_count": null,
            "_view_module": "@jupyter-widgets/base",
            "_view_module_version": "1.2.0",
            "_view_name": "LayoutView",
            "align_content": null,
            "align_items": null,
            "align_self": null,
            "border": null,
            "bottom": null,
            "display": null,
            "flex": null,
            "flex_flow": null,
            "grid_area": null,
            "grid_auto_columns": null,
            "grid_auto_flow": null,
            "grid_auto_rows": null,
            "grid_column": null,
            "grid_gap": null,
            "grid_row": null,
            "grid_template_areas": null,
            "grid_template_columns": null,
            "grid_template_rows": null,
            "height": null,
            "justify_content": null,
            "justify_items": null,
            "left": null,
            "margin": null,
            "max_height": null,
            "max_width": null,
            "min_height": null,
            "min_width": null,
            "object_fit": null,
            "object_position": null,
            "order": null,
            "overflow": null,
            "overflow_x": null,
            "overflow_y": null,
            "padding": null,
            "right": null,
            "top": null,
            "visibility": null,
            "width": null
          }
        },
        "98109c8ae26141f18f39f54dc3d8304b": {
          "model_module": "@jupyter-widgets/controls",
          "model_name": "DescriptionStyleModel",
          "model_module_version": "1.5.0",
          "state": {
            "_model_module": "@jupyter-widgets/controls",
            "_model_module_version": "1.5.0",
            "_model_name": "DescriptionStyleModel",
            "_view_count": null,
            "_view_module": "@jupyter-widgets/base",
            "_view_module_version": "1.2.0",
            "_view_name": "StyleView",
            "description_width": ""
          }
        },
        "1f2e7413abac41c8a00efeeb973b31dc": {
          "model_module": "@jupyter-widgets/base",
          "model_name": "LayoutModel",
          "model_module_version": "1.2.0",
          "state": {
            "_model_module": "@jupyter-widgets/base",
            "_model_module_version": "1.2.0",
            "_model_name": "LayoutModel",
            "_view_count": null,
            "_view_module": "@jupyter-widgets/base",
            "_view_module_version": "1.2.0",
            "_view_name": "LayoutView",
            "align_content": null,
            "align_items": null,
            "align_self": null,
            "border": null,
            "bottom": null,
            "display": null,
            "flex": null,
            "flex_flow": null,
            "grid_area": null,
            "grid_auto_columns": null,
            "grid_auto_flow": null,
            "grid_auto_rows": null,
            "grid_column": null,
            "grid_gap": null,
            "grid_row": null,
            "grid_template_areas": null,
            "grid_template_columns": null,
            "grid_template_rows": null,
            "height": null,
            "justify_content": null,
            "justify_items": null,
            "left": null,
            "margin": null,
            "max_height": null,
            "max_width": null,
            "min_height": null,
            "min_width": null,
            "object_fit": null,
            "object_position": null,
            "order": null,
            "overflow": null,
            "overflow_x": null,
            "overflow_y": null,
            "padding": null,
            "right": null,
            "top": null,
            "visibility": null,
            "width": null
          }
        },
        "5ed31b28ed5d4206b713e26c9c0340cc": {
          "model_module": "@jupyter-widgets/controls",
          "model_name": "ProgressStyleModel",
          "model_module_version": "1.5.0",
          "state": {
            "_model_module": "@jupyter-widgets/controls",
            "_model_module_version": "1.5.0",
            "_model_name": "ProgressStyleModel",
            "_view_count": null,
            "_view_module": "@jupyter-widgets/base",
            "_view_module_version": "1.2.0",
            "_view_name": "StyleView",
            "bar_color": null,
            "description_width": ""
          }
        },
        "021e591920f744cf88285dff1417e041": {
          "model_module": "@jupyter-widgets/base",
          "model_name": "LayoutModel",
          "model_module_version": "1.2.0",
          "state": {
            "_model_module": "@jupyter-widgets/base",
            "_model_module_version": "1.2.0",
            "_model_name": "LayoutModel",
            "_view_count": null,
            "_view_module": "@jupyter-widgets/base",
            "_view_module_version": "1.2.0",
            "_view_name": "LayoutView",
            "align_content": null,
            "align_items": null,
            "align_self": null,
            "border": null,
            "bottom": null,
            "display": null,
            "flex": null,
            "flex_flow": null,
            "grid_area": null,
            "grid_auto_columns": null,
            "grid_auto_flow": null,
            "grid_auto_rows": null,
            "grid_column": null,
            "grid_gap": null,
            "grid_row": null,
            "grid_template_areas": null,
            "grid_template_columns": null,
            "grid_template_rows": null,
            "height": null,
            "justify_content": null,
            "justify_items": null,
            "left": null,
            "margin": null,
            "max_height": null,
            "max_width": null,
            "min_height": null,
            "min_width": null,
            "object_fit": null,
            "object_position": null,
            "order": null,
            "overflow": null,
            "overflow_x": null,
            "overflow_y": null,
            "padding": null,
            "right": null,
            "top": null,
            "visibility": null,
            "width": null
          }
        },
        "4fe2d80d60d9489996bab95c340dc10f": {
          "model_module": "@jupyter-widgets/controls",
          "model_name": "DescriptionStyleModel",
          "model_module_version": "1.5.0",
          "state": {
            "_model_module": "@jupyter-widgets/controls",
            "_model_module_version": "1.5.0",
            "_model_name": "DescriptionStyleModel",
            "_view_count": null,
            "_view_module": "@jupyter-widgets/base",
            "_view_module_version": "1.2.0",
            "_view_name": "StyleView",
            "description_width": ""
          }
        }
      }
    }
  },
  "cells": [
    {
      "cell_type": "markdown",
      "metadata": {
        "id": "view-in-github",
        "colab_type": "text"
      },
      "source": [
        "<a href=\"https://colab.research.google.com/github/xtliao/PyTorchProjects/blob/main/nn_FashionMNIST.ipynb\" target=\"_parent\"><img src=\"https://colab.research.google.com/assets/colab-badge.svg\" alt=\"Open In Colab\"/></a>"
      ]
    },
    {
      "cell_type": "markdown",
      "source": [
        "#1.&nbsp;Check PyTorch version and setup device"
      ],
      "metadata": {
        "id": "n3M8qvkhWeYf"
      }
    },
    {
      "cell_type": "code",
      "source": [
        "import torch\n",
        "print(f\"PyTorch versiion: {torch.__version__}\")\n",
        "\n",
        "device = torch.device(\"cuda\" if torch.cuda.is_available() else \"cpu\")\n",
        "print(f\"Device: {device}\")"
      ],
      "metadata": {
        "colab": {
          "base_uri": "https://localhost:8080/"
        },
        "id": "dLemfgW0YoC9",
        "outputId": "8dc3e89e-0976-44a5-e41f-6c6da230f14d"
      },
      "execution_count": 164,
      "outputs": [
        {
          "output_type": "stream",
          "name": "stdout",
          "text": [
            "PyTorch versiion: 2.3.1+cu121\n",
            "Device: cuda\n"
          ]
        }
      ]
    },
    {
      "cell_type": "markdown",
      "source": [
        "#2.&nbsp;Prep dataset and dataloader"
      ],
      "metadata": {
        "id": "ry80N3XNWo3A"
      }
    },
    {
      "cell_type": "markdown",
      "source": [
        "## 2.1. Download train and test datasets"
      ],
      "metadata": {
        "id": "r-gHMzRHbQxV"
      }
    },
    {
      "cell_type": "code",
      "source": [
        "import torchvision\n",
        "from torchvision import datasets, transforms\n",
        "\n",
        "train_dataset = datasets.FashionMNIST(root=\"data\",\n",
        "                                      train=True,\n",
        "                                      download=True,\n",
        "                                      transform=transforms.ToTensor(),\n",
        "                                      target_transform=None)\n",
        "test_dataset = datasets.FashionMNIST(root=\"data\",\n",
        "                                     train=False,\n",
        "                                     download=True,\n",
        "                                     transform=transforms.ToTensor(),\n",
        "                                     target_transform=None)\n",
        "\n",
        "train_dataset, test_dataset\n",
        "\n",
        "class_names = train_dataset.classes\n",
        "print(f\"The following {len(class_names)} classes are in the train dataset:\\n\")\n",
        "print(class_names)\n"
      ],
      "metadata": {
        "colab": {
          "base_uri": "https://localhost:8080/"
        },
        "id": "c8UDGBicaaU8",
        "outputId": "b9b99b0f-68aa-474f-fdbd-827a13652ad2"
      },
      "execution_count": 165,
      "outputs": [
        {
          "output_type": "stream",
          "name": "stdout",
          "text": [
            "The following 10 classes are in the train dataset:\n",
            "\n",
            "['T-shirt/top', 'Trouser', 'Pullover', 'Dress', 'Coat', 'Sandal', 'Shirt', 'Sneaker', 'Bag', 'Ankle boot']\n"
          ]
        }
      ]
    },
    {
      "cell_type": "markdown",
      "source": [
        "2.2. Visualize some random data from the dataset"
      ],
      "metadata": {
        "id": "UaD7c52hbYCc"
      }
    },
    {
      "cell_type": "code",
      "source": [
        "import random\n",
        "import matplotlib.pyplot as plt\n",
        "\n",
        "NUM_SAMPLES = 9\n",
        "\n",
        "random_sample_ids = random.sample(range(len(train_dataset)), k=NUM_SAMPLES)\n",
        "fig, axs = plt.subplots(1, NUM_SAMPLES, figsize=(15,7))\n",
        "\n",
        "for i, id in enumerate(random_sample_ids):\n",
        "  input, label = train_dataset[id]\n",
        "  axs[i].imshow(input.squeeze(), cmap=\"gray\")\n",
        "  axs[i].axis(False)\n",
        "  axs[i].set_title(label)\n"
      ],
      "metadata": {
        "colab": {
          "base_uri": "https://localhost:8080/",
          "height": 157
        },
        "id": "ApoYhcMNbjjK",
        "outputId": "5bcd9e59-578e-458a-de19-e3a76cf85319"
      },
      "execution_count": 166,
      "outputs": [
        {
          "output_type": "display_data",
          "data": {
            "text/plain": [
              "<Figure size 1500x700 with 9 Axes>"
            ],
            "image/png": "[encoded data removed]"
          },
          "metadata": {}
        }
      ]
    },
    {
      "cell_type": "markdown",
      "source": [
        "## 2.3. Turn datasets into dataloaders"
      ],
      "metadata": {
        "id": "tm6Dx7PbksCf"
      }
    },
    {
      "cell_type": "code",
      "source": [
        "from torch.utils.data import DataLoader\n",
        "\n",
        "train_dataloader = DataLoader(dataset=train_dataset,\n",
        "                              batch_size=32,\n",
        "                              shuffle=True)\n",
        "test_dataloader = DataLoader(dataset=test_dataset,\n",
        "                             batch_size=32,\n",
        "                             shuffle=False)\n",
        "print(f\"Length of train dataloader: {len(train_dataset):,} / 32 = {len(train_dataloader):,}\\n\")\n",
        "print(f\"Length of test  dataloader: {len(test_dataloader):,} / 32 = {len(test_dataloader):,}\\n\")\n",
        "\n",
        "first_dataloader = next(iter(train_dataloader))\n",
        "print(f\"Shape of inputs: {first_dataloader[0].shape}\")\n",
        "print(f\"Shape of labels: {first_dataloader[1].shape}\")\n"
      ],
      "metadata": {
        "colab": {
          "base_uri": "https://localhost:8080/"
        },
        "id": "qsvReV3tkzZS",
        "outputId": "8f2d0a0f-696f-4cec-b8f4-3e557d067861"
      },
      "execution_count": 167,
      "outputs": [
        {
          "output_type": "stream",
          "name": "stdout",
          "text": [
            "Length of train dataloader: 60,000 / 32 = 1,875\n",
            "\n",
            "Length of test  dataloader: 313 / 32 = 313\n",
            "\n",
            "Shape of inputs: torch.Size([32, 1, 28, 28])\n",
            "Shape of labels: torch.Size([32])\n"
          ]
        }
      ]
    },
    {
      "cell_type": "markdown",
      "source": [
        "#3.&nbsp; Define train and test loop functions"
      ],
      "metadata": {
        "id": "LSSYIKn9YugA"
      }
    },
    {
      "cell_type": "markdown",
      "source": [
        "## 3.1. train_loop() function"
      ],
      "metadata": {
        "id": "OUOuOWl3neiF"
      }
    },
    {
      "cell_type": "code",
      "source": [
        "import torch.nn as nn\n",
        "\n",
        "def train_loop(model: torch.nn.Module,\n",
        "               dataloader: torch.utils.data.DataLoader,\n",
        "               optimizer: torch.optim.Optimizer,\n",
        "               loss_fn: torch.nn.Module,\n",
        "               metric_fn,\n",
        "               device: torch.device = device):\n",
        "  model.to(device)\n",
        "  model.train()\n",
        "\n",
        "  train_loss, train_metric = 0, 0\n",
        "\n",
        "  for batch, (X, y) in enumerate(dataloader):\n",
        "    X, y = X.to(device), y.to(device)\n",
        "    logits = model(X)\n",
        "    loss = loss_fn(logits, y)\n",
        "\n",
        "    preds = logits.softmax(dim=1).argmax(dim=1)\n",
        "    metric = metric_fn(preds, y)\n",
        "\n",
        "    train_loss += loss.item()\n",
        "    train_metric += metric.item()\n",
        "\n",
        "    optimizer.zero_grad()\n",
        "    loss.backward()\n",
        "    optimizer.step()\n",
        "\n",
        "  train_loss /= len(dataloader)\n",
        "  train_metric /= len(dataloader)\n",
        "\n",
        "  return train_loss, train_metric"
      ],
      "metadata": {
        "id": "72erBoKAnsPy"
      },
      "execution_count": 168,
      "outputs": []
    },
    {
      "cell_type": "markdown",
      "source": [
        "## 3.2. test_loop() function"
      ],
      "metadata": {
        "id": "1ZhVSoPAnlu1"
      }
    },
    {
      "cell_type": "code",
      "source": [
        "def test_loop(model: torch.nn.Module,\n",
        "              dataloader: torch.utils.data.DataLoader,\n",
        "              loss_fn: torch.nn.Module,\n",
        "              metric_fn,\n",
        "              device: torch.device = device):\n",
        "\n",
        "  model.to(device)\n",
        "  model.eval()\n",
        "\n",
        "  test_loss, test_metric = 0, 0\n",
        "  with torch.inference_mode():\n",
        "    for batch, (X, y) in enumerate(dataloader):\n",
        "      X, y = X.to(device), y.to(device)\n",
        "      logits = model(X)\n",
        "      loss = loss_fn(logits, y)\n",
        "\n",
        "      preds = logits.softmax(dim=1).argmax(dim=1)\n",
        "      metric = metric_fn(preds, y)\n",
        "\n",
        "      test_loss += loss.item()\n",
        "      test_metric += metric.item()\n",
        "\n",
        "    test_loss /= len(dataloader)\n",
        "    test_metric /= len(dataloader)\n",
        "\n",
        "  return test_loss, test_metric"
      ],
      "metadata": {
        "id": "09xJVm2rnsiJ"
      },
      "execution_count": 169,
      "outputs": []
    },
    {
      "cell_type": "markdown",
      "source": [
        "#4.&nbsp; Define train model function"
      ],
      "metadata": {
        "id": "XILmd_JIY2Cy"
      }
    },
    {
      "cell_type": "code",
      "source": [
        "from tqdm.auto import tqdm\n",
        "from timeit import default_timer\n",
        "\n",
        "def train_model(model: torch.nn.Module,\n",
        "                train_dataloader: torch.utils.data.DataLoader,\n",
        "                test_dataloader: torch.utils.data.DataLoader,\n",
        "                optimizer: torch.optim.Optimizer,\n",
        "                loss_fn: torch.nn.Module,\n",
        "                metric_fn,\n",
        "                device: torch.device = device,\n",
        "                epochs: int = 3):\n",
        "\n",
        "  start = default_timer()\n",
        "\n",
        "  train_losses, train_metrics = [], []\n",
        "  test_losses, test_metrics = [], []\n",
        "\n",
        "  for epoch in tqdm(range(epochs), desc=\"Training model...\"):\n",
        "    train_loss, train_metric = train_loop(model, train_dataloader, optimizer, loss_fn, metric_fn, device)\n",
        "    test_loss, test_metric = test_loop(model, test_dataloader, loss_fn, metric_fn, device)\n",
        "\n",
        "    print(f\"Epoch: {epoch:3n} | Train loss: {train_loss:.5f}, train metric: {train_metric:.2%} | Test loss: {test_loss:.5f}, test metric: {test_metric:.2%}\")\n",
        "\n",
        "    # save them for later curves plotting\n",
        "    train_losses.append(train_loss)\n",
        "    train_metrics.append(train_metric)\n",
        "    test_losses.append(test_loss)\n",
        "    test_metrics.append(test_metric)\n",
        "\n",
        "  train_time = default_timer() - start\n",
        "  print(f\"Total train time: {train_time:.2f} seconds\")\n",
        "\n",
        "  return train_losses, train_metrics, test_losses, test_metrics"
      ],
      "metadata": {
        "id": "yc-uJ6uPqcoJ"
      },
      "execution_count": 170,
      "outputs": []
    },
    {
      "cell_type": "markdown",
      "source": [
        "#5.&nbsp;Define new model"
      ],
      "metadata": {
        "id": "bBpTqdbiY-cJ"
      }
    },
    {
      "cell_type": "markdown",
      "source": [
        "## 5.1. Copy the model from CNN Explainer"
      ],
      "metadata": {
        "id": "Lj-vI7_jsDae"
      }
    },
    {
      "cell_type": "code",
      "source": [
        "import torch.nn as nn\n",
        "\n",
        "class MyFashionMNISTModel(nn.Module):\n",
        "  def __init__(self, in_shape: int, hidden_units: int, out_shape: int):\n",
        "    super().__init__()\n",
        "    self.conv1 = nn.Sequential(\n",
        "        nn.Conv2d(in_channels=in_shape,\n",
        "                  out_channels=hidden_units,\n",
        "                  kernel_size=3,\n",
        "                  stride=1,\n",
        "                  padding=1),\n",
        "        nn.ReLU(),\n",
        "        nn.Conv2d(hidden_units, hidden_units, 3, 1, 1),\n",
        "        nn.ReLU(),\n",
        "        nn.MaxPool2d(kernel_size=2)\n",
        "    )\n",
        "    self.conv2 = nn.Sequential(\n",
        "        nn.Conv2d(hidden_units, hidden_units, 3, 1, 1),\n",
        "        nn.ReLU(),\n",
        "        nn.Conv2d(hidden_units, hidden_units, 3, 1, 1),\n",
        "        nn.ReLU(),\n",
        "        nn.MaxPool2d(kernel_size=2)\n",
        "    )\n",
        "    self.classifier = nn.Sequential(\n",
        "        nn.Flatten(),\n",
        "        nn.Linear(in_features=hidden_units * 7 * 7,\n",
        "                  out_features=out_shape)\n",
        "    )\n",
        "\n",
        "  def forward(self, x: torch.Tensor) -> torch.Tensor:\n",
        "    x = self.conv1(x)\n",
        "    x = self.conv2(x)\n",
        "    x = self.classifier(x)\n",
        "    return x\n",
        "\n",
        "model_0 = MyFashionMNISTModel(in_shape=1, # 1 means nor color image\n",
        "                              hidden_units=10,\n",
        "                              out_shape=len(class_names))\n",
        "model_0"
      ],
      "metadata": {
        "colab": {
          "base_uri": "https://localhost:8080/"
        },
        "id": "wxUckiRHsR4S",
        "outputId": "322595e9-483b-4e8a-ccca-96784420936a"
      },
      "execution_count": 171,
      "outputs": [
        {
          "output_type": "execute_result",
          "data": {
            "text/plain": [
              "MyFashionMNISTModel(\n",
              "  (conv1): Sequential(\n",
              "    (0): Conv2d(1, 10, kernel_size=(3, 3), stride=(1, 1), padding=(1, 1))\n",
              "    (1): ReLU()\n",
              "    (2): Conv2d(10, 10, kernel_size=(3, 3), stride=(1, 1), padding=(1, 1))\n",
              "    (3): ReLU()\n",
              "    (4): MaxPool2d(kernel_size=2, stride=2, padding=0, dilation=1, ceil_mode=False)\n",
              "  )\n",
              "  (conv2): Sequential(\n",
              "    (0): Conv2d(10, 10, kernel_size=(3, 3), stride=(1, 1), padding=(1, 1))\n",
              "    (1): ReLU()\n",
              "    (2): Conv2d(10, 10, kernel_size=(3, 3), stride=(1, 1), padding=(1, 1))\n",
              "    (3): ReLU()\n",
              "    (4): MaxPool2d(kernel_size=2, stride=2, padding=0, dilation=1, ceil_mode=False)\n",
              "  )\n",
              "  (classifier): Sequential(\n",
              "    (0): Flatten(start_dim=1, end_dim=-1)\n",
              "    (1): Linear(in_features=490, out_features=10, bias=True)\n",
              "  )\n",
              ")"
            ]
          },
          "metadata": {},
          "execution_count": 171
        }
      ]
    },
    {
      "cell_type": "markdown",
      "source": [
        "## 5.2. Test the new model before trainning with the first test dataset"
      ],
      "metadata": {
        "id": "7QWJSpGnsHlV"
      }
    },
    {
      "cell_type": "code",
      "source": [
        "X, y = test_dataset[0]\n",
        "print(f\"Shape of X: {X.shape}\")\n",
        "pred = model_0(X.unsqueeze(0)).softmax(dim=1).argmax(dim=1)\n",
        "print(f\"Prediction label: {pred}, class name is: {class_names[pred.item()]}\")\n",
        "plt.imshow(X.squeeze(0))\n"
      ],
      "metadata": {
        "colab": {
          "base_uri": "https://localhost:8080/",
          "height": 484
        },
        "id": "7C36RBnXu4H8",
        "outputId": "840191ff-c78a-42d2-869d-9a2743483613"
      },
      "execution_count": 172,
      "outputs": [
        {
          "output_type": "stream",
          "name": "stdout",
          "text": [
            "Shape of X: torch.Size([1, 28, 28])\n",
            "Prediction label: tensor([4]), class name is: Coat\n"
          ]
        },
        {
          "output_type": "execute_result",
          "data": {
            "text/plain": [
              "<matplotlib.image.AxesImage at 0x7cb06eb4a3b0>"
            ]
          },
          "metadata": {},
          "execution_count": 172
        },
        {
          "output_type": "display_data",
          "data": {
            "text/plain": [
              "<Figure size 640x480 with 1 Axes>"
            ],
            "image/png": "[encoded data removed]"
          },
          "metadata": {}
        }
      ]
    },
    {
      "cell_type": "markdown",
      "source": [
        "#6.&nbsp;Define loss, metric and optimizer functions"
      ],
      "metadata": {
        "id": "dBCN9WSsZIBc"
      }
    },
    {
      "cell_type": "markdown",
      "source": [
        "## 6.1. Install torchmetrics"
      ],
      "metadata": {
        "id": "3DoelCruwTBE"
      }
    },
    {
      "cell_type": "code",
      "source": [
        "try:\n",
        "  import torcheval\n",
        "except:\n",
        "  !pip install torcheval --quiet\n",
        "  import torcheval\n",
        "\n",
        "print(f\"torcheval version: {torcheval.__version__}\")"
      ],
      "metadata": {
        "colab": {
          "base_uri": "https://localhost:8080/"
        },
        "id": "wZhABFB0wjtz",
        "outputId": "a7931cc8-fa6f-4be6-f4ec-998f7af4eaea"
      },
      "execution_count": 173,
      "outputs": [
        {
          "output_type": "stream",
          "name": "stdout",
          "text": [
            "torcheval version: 0.0.7\n"
          ]
        }
      ]
    },
    {
      "cell_type": "code",
      "source": [
        "try:\n",
        "  import torchmetrics\n",
        "except:\n",
        "  !pip install torchmetrics --quiet\n",
        "  import torchmetrics\n",
        "\n",
        "print(f\"torchmetrics version: {torchmetrics.__version__}\")"
      ],
      "metadata": {
        "colab": {
          "base_uri": "https://localhost:8080/"
        },
        "id": "LKAp1ZAAX907",
        "outputId": "877d8b44-2def-405e-aa22-f440462283bd"
      },
      "execution_count": 174,
      "outputs": [
        {
          "output_type": "stream",
          "name": "stdout",
          "text": [
            "torchmetrics version: 1.4.1\n"
          ]
        }
      ]
    },
    {
      "cell_type": "markdown",
      "source": [
        "## 6.2. Define functions"
      ],
      "metadata": {
        "id": "B8iLMgvZwYbt"
      }
    },
    {
      "cell_type": "code",
      "source": [
        "optimizer = torch.optim.Adam(params=model_0.parameters(), lr=0.01)\n",
        "loss_fn = torch.nn.CrossEntropyLoss()\n",
        "metric_fn = torchmetrics.classification.MulticlassAccuracy(num_classes=len(class_names)).to(device)"
      ],
      "metadata": {
        "id": "ja_DkXh4w5ab"
      },
      "execution_count": 175,
      "outputs": []
    },
    {
      "cell_type": "markdown",
      "source": [
        "#7.&nbsp;Train new model"
      ],
      "metadata": {
        "id": "64dybtHMZSq7"
      }
    },
    {
      "cell_type": "markdown",
      "source": [
        "## 7.1. Train new model"
      ],
      "metadata": {
        "id": "RjKCDmfE4Ady"
      }
    },
    {
      "cell_type": "code",
      "source": [
        "NUM_EPOCHS =5\n",
        "\n",
        "train_losses, train_metrics, test_losses, test_metrics = train_model(model=model_0,\n",
        "                                                                    train_dataloader=train_dataloader,\n",
        "                                                                    test_dataloader=test_dataloader,\n",
        "                                                                    optimizer=optimizer,\n",
        "                                                                    loss_fn=loss_fn,\n",
        "                                                                    metric_fn=metric_fn,\n",
        "                                                                    device=device,\n",
        "                                                                    epochs=NUM_EPOCHS)"
      ],
      "metadata": {
        "colab": {
          "base_uri": "https://localhost:8080/",
          "height": 156,
          "referenced_widgets": [
            "45ae2920bcce40f5bd7aaa6d5b0c6c01",
            "afd3085b2e9a4fe78d696eb42585d41f",
            "637d978f78c341a1b971b535b82b8161",
            "d07fdf69b6f74aed83edd2f9708dd9e4",
            "acb1effab506449a83a9ecd2858dea16",
            "7756307ef1a6444589728edbae480bc9",
            "98109c8ae26141f18f39f54dc3d8304b",
            "1f2e7413abac41c8a00efeeb973b31dc",
            "5ed31b28ed5d4206b713e26c9c0340cc",
            "021e591920f744cf88285dff1417e041",
            "4fe2d80d60d9489996bab95c340dc10f"
          ]
        },
        "id": "waxn4MJHzgd7",
        "outputId": "c4782593-5e54-49fe-fdea-8707758e8e1a"
      },
      "execution_count": 176,
      "outputs": [
        {
          "output_type": "display_data",
          "data": {
            "text/plain": [
              "Training model...:   0%|          | 0/5 [00:00<?, ?it/s]"
            ],
            "application/vnd.jupyter.widget-view+json": {
              "version_major": 2,
              "version_minor": 0,
              "model_id": "45ae2920bcce40f5bd7aaa6d5b0c6c01"
            }
          },
          "metadata": {}
        },
        {
          "output_type": "stream",
          "name": "stdout",
          "text": [
            "Epoch:   0 | Train loss: 0.49180, train metric: 81.26% | Test loss: 0.42015, test metric: 84.27%\n",
            "Epoch:   1 | Train loss: 0.38285, train metric: 84.94% | Test loss: 0.44703, test metric: 83.19%\n",
            "Epoch:   2 | Train loss: 0.37108, train metric: 85.19% | Test loss: 0.38453, test metric: 84.87%\n",
            "Epoch:   3 | Train loss: 0.36009, train metric: 85.70% | Test loss: 0.37712, test metric: 85.16%\n",
            "Epoch:   4 | Train loss: 0.35903, train metric: 86.02% | Test loss: 0.40483, test metric: 84.18%\n",
            "Total train time: 77.71 seconds\n"
          ]
        }
      ]
    },
    {
      "cell_type": "markdown",
      "source": [
        "## 7.2. Plot the train and test loss/metric curves"
      ],
      "metadata": {
        "id": "mjvGscUU4FKi"
      }
    },
    {
      "cell_type": "code",
      "source": [
        "print(f'''\n",
        "  train_losses:{train_losses}, \\n\n",
        "  test_losses:{test_losses}, \\n\n",
        "  train_metrics:{train_metrics}, \\n\n",
        "  test_metrics:{test_metrics}, \\n\n",
        "  ''')\n",
        "\n",
        "fig, axs = plt.subplots(1, 2, figsize =(10,5))\n",
        "\n",
        "# Loss\n",
        "axs[0].plot(range(1, NUM_EPOCHS+1), train_losses, label=\"Train Loss\")\n",
        "axs[0].plot(range(1, NUM_EPOCHS+1), test_losses, label=\"Test Loss\")\n",
        "axs[0].legend()\n",
        "axs[0].set_ylabel(\"Loss\")\n",
        "\n",
        "# Metric\n",
        "axs[1].plot(range(1, NUM_EPOCHS+1), train_metrics, label=\"Train Accuracy\")\n",
        "axs[1].plot(range(1, NUM_EPOCHS+1), test_metrics, label=\"Test Accuracy\")\n",
        "axs[1].legend()\n",
        "axs[1].set_ylabel(\"Accuracy\")\n"
      ],
      "metadata": {
        "colab": {
          "base_uri": "https://localhost:8080/",
          "height": 641
        },
        "id": "0ss6L0XK4NVr",
        "outputId": "16fa2647-a77f-4bc4-a9a1-9436815207be"
      },
      "execution_count": 177,
      "outputs": [
        {
          "output_type": "stream",
          "name": "stdout",
          "text": [
            "\n",
            "  train_losses:[0.4917999798576037, 0.3828469529191653, 0.3710781905770302, 0.3600899955133597, 0.3590293717722098], \n",
            "\n",
            "  test_losses:[0.4201544990507178, 0.44703069307838383, 0.38453297916883095, 0.37711905167934995, 0.4048295142932441], \n",
            " \n",
            "  train_metrics:[0.8126337851603825, 0.8494132471084594, 0.851888888835907, 0.8570473987897237, 0.8602019472122192], \n",
            " \n",
            "  test_metrics:[0.8427115760672207, 0.831911624810947, 0.8486966326975593, 0.8515639697400906, 0.8418244026339473], \n",
            "\n",
            "  \n"
          ]
        },
        {
          "output_type": "execute_result",
          "data": {
            "text/plain": [
              "Text(0, 0.5, 'Accuracy')"
            ]
          },
          "metadata": {},
          "execution_count": 177
        },
        {
          "output_type": "display_data",
          "data": {
            "text/plain": [
              "<Figure size 1000x500 with 2 Axes>"
            ],
            "image/png": "[encoded data removed]"
          },
          "metadata": {}
        }
      ]
    },
    {
      "cell_type": "markdown",
      "source": [
        "#8.&nbsp;Define model evaluation function"
      ],
      "metadata": {
        "id": "NkXOflvmZdJ9"
      }
    },
    {
      "cell_type": "markdown",
      "source": [
        "## 8.1. Define the eval_model() function"
      ],
      "metadata": {
        "id": "_kgIsPCfcfxt"
      }
    },
    {
      "cell_type": "code",
      "source": [
        "def eval_model(model: torch.nn.Module,\n",
        "               dataloader: torch.utils.data.DataLoader,\n",
        "               loss_fn: torch.nn.Module,\n",
        "               metric_fn,\n",
        "               device: torch.device = device,\n",
        "               model_name: str = None):\n",
        "  model.to(device)\n",
        "  model.eval()\n",
        "\n",
        "  eval_loss, eval_metric = 0, 0\n",
        "  eval_results = {\"model_name\": str,\n",
        "                  \"eval_loss\": float,\n",
        "                  \"eval_metric\": float}\n",
        "\n",
        "  with torch.inference_mode():\n",
        "    for batch, (X, y) in enumerate(dataloader):\n",
        "      X, y = X.to(device), y.to(device)\n",
        "      logits = model(X)\n",
        "      loss = loss_fn(logits, y)\n",
        "\n",
        "      preds = logits.softmax(dim=1).argmax(dim=1)\n",
        "      metric = metric_fn(preds, y)\n",
        "\n",
        "      eval_loss += loss.item()\n",
        "      eval_metric += metric.item()\n",
        "\n",
        "    eval_loss /= len(dataloader)\n",
        "    eval_metric /= len(dataloader)\n",
        "  if model_name is None:\n",
        "    model_name = model.__class__.__name__\n",
        "  eval_results[\"model_name\"] = model_name\n",
        "  eval_results[\"eval_loss\"] = eval_loss\n",
        "  eval_results[\"eval_metric\"] = eval_metric\n",
        "\n",
        "  return eval_results"
      ],
      "metadata": {
        "id": "_7idGS_HatM_"
      },
      "execution_count": 178,
      "outputs": []
    },
    {
      "cell_type": "markdown",
      "source": [
        "## 8.2. Evaluate the previous trained model"
      ],
      "metadata": {
        "id": "VfYuMQocckst"
      }
    },
    {
      "cell_type": "code",
      "source": [
        "eval_results_model_0 = eval_model(model=model_0,\n",
        "                                  dataloader=test_dataloader,\n",
        "                                  loss_fn=loss_fn,\n",
        "                                  metric_fn=metric_fn,\n",
        "                                  device = device,\n",
        "                                  model_name=\"model_0\")\n",
        "eval_results_model_0"
      ],
      "metadata": {
        "colab": {
          "base_uri": "https://localhost:8080/"
        },
        "id": "AzNaRtf7ctLv",
        "outputId": "426c5a1f-7bb4-4607-df4d-c323d48bc0a3"
      },
      "execution_count": 179,
      "outputs": [
        {
          "output_type": "execute_result",
          "data": {
            "text/plain": [
              "{'model_name': 'model_0',\n",
              " 'eval_loss': 0.4048295142932441,\n",
              " 'eval_metric': 0.8418244026339473}"
            ]
          },
          "metadata": {},
          "execution_count": 179
        }
      ]
    },
    {
      "cell_type": "markdown",
      "source": [
        "#9.&nbsp;Define make prediction function"
      ],
      "metadata": {
        "id": "JvpUAYjsZoli"
      }
    },
    {
      "cell_type": "markdown",
      "source": [
        "## 9.1. Define make_predictions() function"
      ],
      "metadata": {
        "id": "gL8a72r1d_zP"
      }
    },
    {
      "cell_type": "code",
      "source": [
        "def make_predictions(model: torch.nn.Module,\n",
        "                    data: list,\n",
        "                    device: torch.device = device):\n",
        "  model.to(device)\n",
        "  model.eval()\n",
        "\n",
        "  preds = []\n",
        "  with torch.inference_mode():\n",
        "    for sample in data:\n",
        "      X = torch.unsqueeze(sample, dim=0).to(device)\n",
        "      pred = model(X).softmax(dim=1).argmax(dim=1)\n",
        "      preds.append(pred)\n",
        "\n",
        "  return torch.cat(preds)"
      ],
      "metadata": {
        "id": "9bMGoEAveL9S"
      },
      "execution_count": 180,
      "outputs": []
    },
    {
      "cell_type": "markdown",
      "source": [
        "## 9.2. Make some random predctions and visualize them"
      ],
      "metadata": {
        "id": "_-sVlUFyeELP"
      }
    },
    {
      "cell_type": "code",
      "source": [
        "# data = [test_dataset[0][0], test_dataset[1][0]]\n",
        "data = [test_dataset[i][0] for i in (random.sample(range(0, len(test_dataset)), k=9))]\n",
        "preds = make_predictions(model_0, data)\n",
        "fig, axs = plt.subplots(1, len(data), figsize=(15,7))\n",
        "for i in range(len(data)):\n",
        "  axs[i].imshow(data[i].squeeze(0), cmap=\"gray\")\n",
        "  axs[i].axis(False)\n",
        "  axs[i].set_title(class_names[preds[i]])"
      ],
      "metadata": {
        "colab": {
          "base_uri": "https://localhost:8080/",
          "height": 157
        },
        "id": "cQCEyDM0eM0a",
        "outputId": "6508ca26-4275-4619-e7db-5b7b82e2e673"
      },
      "execution_count": 181,
      "outputs": [
        {
          "output_type": "display_data",
          "data": {
            "text/plain": [
              "<Figure size 1500x700 with 9 Axes>"
            ],
            "image/png": "[encoded data removed]"
          },
          "metadata": {}
        }
      ]
    },
    {
      "cell_type": "markdown",
      "source": [
        "#10.&nbsp;Plot confusion matrix"
      ],
      "metadata": {
        "id": "5VF6v_2PZwGA"
      }
    },
    {
      "cell_type": "code",
      "source": [
        "model_0.to(device)\n",
        "model_0.eval()\n",
        "\n",
        "preds = []\n",
        "labels = []\n",
        "with torch.inference_mode():\n",
        "  for X, y in test_dataloader:\n",
        "    X, y = X.to(device), y.to(device)\n",
        "    pred = model_0(X).softmax(dim=1).argmax(dim=1)\n",
        "    preds.append(pred.detach())\n",
        "    labels.append(y.detach())\n",
        "\n",
        "preds = torch.cat(preds).to(device)\n",
        "labels = torch.cat(labels).to(device)\n",
        "conf_mat = torchmetrics.classification.MulticlassConfusionMatrix(num_classes=len(class_names)).to(device)\n",
        "conf_mat(preds=preds, target=labels)\n",
        "conf_mat.plot()"
      ],
      "metadata": {
        "colab": {
          "base_uri": "https://localhost:8080/",
          "height": 544
        },
        "id": "LTe3sWzphdCu",
        "outputId": "f0b392fa-3c40-4c94-bba8-59c0d3f583da"
      },
      "execution_count": 182,
      "outputs": [
        {
          "output_type": "execute_result",
          "data": {
            "text/plain": [
              "(<Figure size 640x480 with 1 Axes>,\n",
              " <Axes: xlabel='Predicted class', ylabel='True class'>)"
            ]
          },
          "metadata": {},
          "execution_count": 182
        },
        {
          "output_type": "display_data",
          "data": {
            "text/plain": [
              "<Figure size 640x480 with 1 Axes>"
            ],
            "image/png": "[encoded data removed]"
          },
          "metadata": {}
        }
      ]
    },
    {
      "cell_type": "markdown",
      "source": [
        "#11.&nbsp;Save and reload model"
      ],
      "metadata": {
        "id": "y_igneWPZ-HS"
      }
    },
    {
      "cell_type": "markdown",
      "source": [
        "## 11.1. Save model state_dict"
      ],
      "metadata": {
        "id": "tg1qvtLT1Odx"
      }
    },
    {
      "cell_type": "code",
      "source": [
        "from pathlib import Path\n",
        "\n",
        "MODEL_PATH = Path(\"models\")\n",
        "MODEL_PATH.mkdir(parents=True, exist_ok=True)\n",
        "\n",
        "MODEL_NAME = \"PyTorch_nn_FashionMNIST.pth\"\n",
        "MODEL_SAVE_PATH = MODEL_PATH / MODEL_NAME\n",
        "\n",
        "print(f\"Saving model to: {MODEL_SAVE_PATH}\")\n",
        "torch.save(obj=model_0.state_dict(), f=MODEL_SAVE_PATH)\n",
        "print(f\"run !ls -l models\")\n",
        "!ls -l models"
      ],
      "metadata": {
        "colab": {
          "base_uri": "https://localhost:8080/"
        },
        "id": "QUt0xIJF1hBl",
        "outputId": "be9d7cd3-457e-4a2c-ce82-975dfb287061"
      },
      "execution_count": 183,
      "outputs": [
        {
          "output_type": "stream",
          "name": "stdout",
          "text": [
            "Saving model to: models/PyTorch_nn_FashionMNIST.pth\n",
            "run !ls -l models\n",
            "total 36\n",
            "-rw-r--r-- 1 root root 35032 Aug 23 16:00 PyTorch_nn_FashionMNIST.pth\n"
          ]
        }
      ]
    },
    {
      "cell_type": "markdown",
      "source": [
        "## 11.2. Load the saved model state_dict to a new model"
      ],
      "metadata": {
        "id": "hsH4Q9jx1Ubm"
      }
    },
    {
      "cell_type": "code",
      "source": [
        "model_1 = MyFashionMNISTModel(in_shape=1,\n",
        "                              hidden_units=10,\n",
        "                              out_shape=len(class_names))\n",
        "model_1.load_state_dict(torch.load(f=MODEL_SAVE_PATH))\n",
        "model_1"
      ],
      "metadata": {
        "colab": {
          "base_uri": "https://localhost:8080/"
        },
        "id": "cqWmMNuQ2TOm",
        "outputId": "786bdbc3-29ca-4c9f-b872-149eacfee454"
      },
      "execution_count": 184,
      "outputs": [
        {
          "output_type": "execute_result",
          "data": {
            "text/plain": [
              "MyFashionMNISTModel(\n",
              "  (conv1): Sequential(\n",
              "    (0): Conv2d(1, 10, kernel_size=(3, 3), stride=(1, 1), padding=(1, 1))\n",
              "    (1): ReLU()\n",
              "    (2): Conv2d(10, 10, kernel_size=(3, 3), stride=(1, 1), padding=(1, 1))\n",
              "    (3): ReLU()\n",
              "    (4): MaxPool2d(kernel_size=2, stride=2, padding=0, dilation=1, ceil_mode=False)\n",
              "  )\n",
              "  (conv2): Sequential(\n",
              "    (0): Conv2d(10, 10, kernel_size=(3, 3), stride=(1, 1), padding=(1, 1))\n",
              "    (1): ReLU()\n",
              "    (2): Conv2d(10, 10, kernel_size=(3, 3), stride=(1, 1), padding=(1, 1))\n",
              "    (3): ReLU()\n",
              "    (4): MaxPool2d(kernel_size=2, stride=2, padding=0, dilation=1, ceil_mode=False)\n",
              "  )\n",
              "  (classifier): Sequential(\n",
              "    (0): Flatten(start_dim=1, end_dim=-1)\n",
              "    (1): Linear(in_features=490, out_features=10, bias=True)\n",
              "  )\n",
              ")"
            ]
          },
          "metadata": {},
          "execution_count": 184
        }
      ]
    },
    {
      "cell_type": "markdown",
      "source": [
        "## 11.3. Eval the new model"
      ],
      "metadata": {
        "id": "Jg7e2Uey1dh0"
      }
    },
    {
      "cell_type": "code",
      "source": [
        "eval_results_model_1 = eval_model(model=model_1,\n",
        "                                 dataloader=test_dataloader,\n",
        "                                 loss_fn=loss_fn,\n",
        "                                 metric_fn=metric_fn,\n",
        "                                 device=device,\n",
        "                                 model_name=\"model_1\")\n",
        "print(f\"eval_results_model_1: {eval_results_model_1}\")\n",
        "print(f\"eval_results_model_0: {eval_results_model_0}\")\n"
      ],
      "metadata": {
        "colab": {
          "base_uri": "https://localhost:8080/"
        },
        "id": "C9Z0xZnW2mm1",
        "outputId": "27ec891f-0d67-484d-e867-3f6839ded8a0"
      },
      "execution_count": 185,
      "outputs": [
        {
          "output_type": "stream",
          "name": "stdout",
          "text": [
            "eval_results_model_1: {'model_name': 'model_1', 'eval_loss': 0.4048295142932441, 'eval_metric': 0.8418244026339473}\n",
            "eval_results_model_0: {'model_name': 'model_0', 'eval_loss': 0.4048295142932441, 'eval_metric': 0.8418244026339473}\n"
          ]
        }
      ]
    }
  ]
}