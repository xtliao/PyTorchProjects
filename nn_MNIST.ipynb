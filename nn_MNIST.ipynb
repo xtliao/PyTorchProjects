{
  "nbformat": 4,
  "nbformat_minor": 0,
  "metadata": {
    "colab": {
      "provenance": [],
      "toc_visible": true,
      "gpuType": "T4",
      "authorship_tag": "ABX9TyMg0PczxYbYujghIUXKmlqr",
      "include_colab_link": true
    },
    "kernelspec": {
      "name": "python3",
      "display_name": "Python 3"
    },
    "language_info": {
      "name": "python"
    },
    "accelerator": "GPU",
    "widgets": {
      "application/vnd.jupyter.widget-state+json": {
        "ada4fe8a46bd4c1ca4545ada633e5812": {
          "model_module": "@jupyter-widgets/controls",
          "model_name": "HBoxModel",
          "model_module_version": "1.5.0",
          "state": {
            "_dom_classes": [],
            "_model_module": "@jupyter-widgets/controls",
            "_model_module_version": "1.5.0",
            "_model_name": "HBoxModel",
            "_view_count": null,
            "_view_module": "@jupyter-widgets/controls",
            "_view_module_version": "1.5.0",
            "_view_name": "HBoxView",
            "box_style": "",
            "children": [
              "IPY_MODEL_25d6392f4c2a4c1882f21d67fdff3bab",
              "IPY_MODEL_5593f1d19b5640b4a619ad59741e458a",
              "IPY_MODEL_f3bf29a2ee1a457f9932a002794ff6fb"
            ],
            "layout": "IPY_MODEL_8f10f1833092405586dd9dbe238362e3"
          }
        },
        "25d6392f4c2a4c1882f21d67fdff3bab": {
          "model_module": "@jupyter-widgets/controls",
          "model_name": "HTMLModel",
          "model_module_version": "1.5.0",
          "state": {
            "_dom_classes": [],
            "_model_module": "@jupyter-widgets/controls",
            "_model_module_version": "1.5.0",
            "_model_name": "HTMLModel",
            "_view_count": null,
            "_view_module": "@jupyter-widgets/controls",
            "_view_module_version": "1.5.0",
            "_view_name": "HTMLView",
            "description": "",
            "description_tooltip": null,
            "layout": "IPY_MODEL_f037b060e4984f3990a020cc01bf155c",
            "placeholder": "​",
            "style": "IPY_MODEL_165d70d31ac94c44a5fc2a6e31add62b",
            "value": "Training model...: 100%"
          }
        },
        "5593f1d19b5640b4a619ad59741e458a": {
          "model_module": "@jupyter-widgets/controls",
          "model_name": "FloatProgressModel",
          "model_module_version": "1.5.0",
          "state": {
            "_dom_classes": [],
            "_model_module": "@jupyter-widgets/controls",
            "_model_module_version": "1.5.0",
            "_model_name": "FloatProgressModel",
            "_view_count": null,
            "_view_module": "@jupyter-widgets/controls",
            "_view_module_version": "1.5.0",
            "_view_name": "ProgressView",
            "bar_style": "success",
            "description": "",
            "description_tooltip": null,
            "layout": "IPY_MODEL_6591c27a225a4150b44762ac088c3ad4",
            "max": 5,
            "min": 0,
            "orientation": "horizontal",
            "style": "IPY_MODEL_b726857a268e458c968c27621e5e6758",
            "value": 5
          }
        },
        "f3bf29a2ee1a457f9932a002794ff6fb": {
          "model_module": "@jupyter-widgets/controls",
          "model_name": "HTMLModel",
          "model_module_version": "1.5.0",
          "state": {
            "_dom_classes": [],
            "_model_module": "@jupyter-widgets/controls",
            "_model_module_version": "1.5.0",
            "_model_name": "HTMLModel",
            "_view_count": null,
            "_view_module": "@jupyter-widgets/controls",
            "_view_module_version": "1.5.0",
            "_view_name": "HTMLView",
            "description": "",
            "description_tooltip": null,
            "layout": "IPY_MODEL_db8fc1ada72241079f54066808906d14",
            "placeholder": "​",
            "style": "IPY_MODEL_11bc4ae25271468aa42b010f9ba5c0b6",
            "value": " 5/5 [01:21&lt;00:00, 16.15s/it]"
          }
        },
        "8f10f1833092405586dd9dbe238362e3": {
          "model_module": "@jupyter-widgets/base",
          "model_name": "LayoutModel",
          "model_module_version": "1.2.0",
          "state": {
            "_model_module": "@jupyter-widgets/base",
            "_model_module_version": "1.2.0",
            "_model_name": "LayoutModel",
            "_view_count": null,
            "_view_module": "@jupyter-widgets/base",
            "_view_module_version": "1.2.0",
            "_view_name": "LayoutView",
            "align_content": null,
            "align_items": null,
            "align_self": null,
            "border": null,
            "bottom": null,
            "display": null,
            "flex": null,
            "flex_flow": null,
            "grid_area": null,
            "grid_auto_columns": null,
            "grid_auto_flow": null,
            "grid_auto_rows": null,
            "grid_column": null,
            "grid_gap": null,
            "grid_row": null,
            "grid_template_areas": null,
            "grid_template_columns": null,
            "grid_template_rows": null,
            "height": null,
            "justify_content": null,
            "justify_items": null,
            "left": null,
            "margin": null,
            "max_height": null,
            "max_width": null,
            "min_height": null,
            "min_width": null,
            "object_fit": null,
            "object_position": null,
            "order": null,
            "overflow": null,
            "overflow_x": null,
            "overflow_y": null,
            "padding": null,
            "right": null,
            "top": null,
            "visibility": null,
            "width": null
          }
        },
        "f037b060e4984f3990a020cc01bf155c": {
          "model_module": "@jupyter-widgets/base",
          "model_name": "LayoutModel",
          "model_module_version": "1.2.0",
          "state": {
            "_model_module": "@jupyter-widgets/base",
            "_model_module_version": "1.2.0",
            "_model_name": "LayoutModel",
            "_view_count": null,
            "_view_module": "@jupyter-widgets/base",
            "_view_module_version": "1.2.0",
            "_view_name": "LayoutView",
            "align_content": null,
            "align_items": null,
            "align_self": null,
            "border": null,
            "bottom": null,
            "display": null,
            "flex": null,
            "flex_flow": null,
            "grid_area": null,
            "grid_auto_columns": null,
            "grid_auto_flow": null,
            "grid_auto_rows": null,
            "grid_column": null,
            "grid_gap": null,
            "grid_row": null,
            "grid_template_areas": null,
            "grid_template_columns": null,
            "grid_template_rows": null,
            "height": null,
            "justify_content": null,
            "justify_items": null,
            "left": null,
            "margin": null,
            "max_height": null,
            "max_width": null,
            "min_height": null,
            "min_width": null,
            "object_fit": null,
            "object_position": null,
            "order": null,
            "overflow": null,
            "overflow_x": null,
            "overflow_y": null,
            "padding": null,
            "right": null,
            "top": null,
            "visibility": null,
            "width": null
          }
        },
        "165d70d31ac94c44a5fc2a6e31add62b": {
          "model_module": "@jupyter-widgets/controls",
          "model_name": "DescriptionStyleModel",
          "model_module_version": "1.5.0",
          "state": {
            "_model_module": "@jupyter-widgets/controls",
            "_model_module_version": "1.5.0",
            "_model_name": "DescriptionStyleModel",
            "_view_count": null,
            "_view_module": "@jupyter-widgets/base",
            "_view_module_version": "1.2.0",
            "_view_name": "StyleView",
            "description_width": ""
          }
        },
        "6591c27a225a4150b44762ac088c3ad4": {
          "model_module": "@jupyter-widgets/base",
          "model_name": "LayoutModel",
          "model_module_version": "1.2.0",
          "state": {
            "_model_module": "@jupyter-widgets/base",
            "_model_module_version": "1.2.0",
            "_model_name": "LayoutModel",
            "_view_count": null,
            "_view_module": "@jupyter-widgets/base",
            "_view_module_version": "1.2.0",
            "_view_name": "LayoutView",
            "align_content": null,
            "align_items": null,
            "align_self": null,
            "border": null,
            "bottom": null,
            "display": null,
            "flex": null,
            "flex_flow": null,
            "grid_area": null,
            "grid_auto_columns": null,
            "grid_auto_flow": null,
            "grid_auto_rows": null,
            "grid_column": null,
            "grid_gap": null,
            "grid_row": null,
            "grid_template_areas": null,
            "grid_template_columns": null,
            "grid_template_rows": null,
            "height": null,
            "justify_content": null,
            "justify_items": null,
            "left": null,
            "margin": null,
            "max_height": null,
            "max_width": null,
            "min_height": null,
            "min_width": null,
            "object_fit": null,
            "object_position": null,
            "order": null,
            "overflow": null,
            "overflow_x": null,
            "overflow_y": null,
            "padding": null,
            "right": null,
            "top": null,
            "visibility": null,
            "width": null
          }
        },
        "b726857a268e458c968c27621e5e6758": {
          "model_module": "@jupyter-widgets/controls",
          "model_name": "ProgressStyleModel",
          "model_module_version": "1.5.0",
          "state": {
            "_model_module": "@jupyter-widgets/controls",
            "_model_module_version": "1.5.0",
            "_model_name": "ProgressStyleModel",
            "_view_count": null,
            "_view_module": "@jupyter-widgets/base",
            "_view_module_version": "1.2.0",
            "_view_name": "StyleView",
            "bar_color": null,
            "description_width": ""
          }
        },
        "db8fc1ada72241079f54066808906d14": {
          "model_module": "@jupyter-widgets/base",
          "model_name": "LayoutModel",
          "model_module_version": "1.2.0",
          "state": {
            "_model_module": "@jupyter-widgets/base",
            "_model_module_version": "1.2.0",
            "_model_name": "LayoutModel",
            "_view_count": null,
            "_view_module": "@jupyter-widgets/base",
            "_view_module_version": "1.2.0",
            "_view_name": "LayoutView",
            "align_content": null,
            "align_items": null,
            "align_self": null,
            "border": null,
            "bottom": null,
            "display": null,
            "flex": null,
            "flex_flow": null,
            "grid_area": null,
            "grid_auto_columns": null,
            "grid_auto_flow": null,
            "grid_auto_rows": null,
            "grid_column": null,
            "grid_gap": null,
            "grid_row": null,
            "grid_template_areas": null,
            "grid_template_columns": null,
            "grid_template_rows": null,
            "height": null,
            "justify_content": null,
            "justify_items": null,
            "left": null,
            "margin": null,
            "max_height": null,
            "max_width": null,
            "min_height": null,
            "min_width": null,
            "object_fit": null,
            "object_position": null,
            "order": null,
            "overflow": null,
            "overflow_x": null,
            "overflow_y": null,
            "padding": null,
            "right": null,
            "top": null,
            "visibility": null,
            "width": null
          }
        },
        "11bc4ae25271468aa42b010f9ba5c0b6": {
          "model_module": "@jupyter-widgets/controls",
          "model_name": "DescriptionStyleModel",
          "model_module_version": "1.5.0",
          "state": {
            "_model_module": "@jupyter-widgets/controls",
            "_model_module_version": "1.5.0",
            "_model_name": "DescriptionStyleModel",
            "_view_count": null,
            "_view_module": "@jupyter-widgets/base",
            "_view_module_version": "1.2.0",
            "_view_name": "StyleView",
            "description_width": ""
          }
        }
      }
    }
  },
  "cells": [
    {
      "cell_type": "markdown",
      "metadata": {
        "id": "view-in-github",
        "colab_type": "text"
      },
      "source": [
        "<a href=\"https://colab.research.google.com/github/xtliao/PyTorchProjects/blob/main/nn_MNIST.ipynb\" target=\"_parent\"><img src=\"https://colab.research.google.com/assets/colab-badge.svg\" alt=\"Open In Colab\"/></a>"
      ]
    },
    {
      "cell_type": "markdown",
      "source": [
        "A ConvNet practice on MNIST dataset\n"
      ],
      "metadata": {
        "id": "mw0eHPpPC3Z5"
      }
    },
    {
      "cell_type": "markdown",
      "source": [
        "# 1.&nbsp;Prep MNIST dataset and dataloader.\n",
        "\n",
        "\n"
      ],
      "metadata": {
        "id": "wbXVhTCpDODn"
      }
    },
    {
      "cell_type": "code",
      "source": [
        "import torch\n",
        "import torchvision\n",
        "from torchvision.datasets import MNIST\n",
        "from torch.utils.data import DataLoader\n",
        "from torchvision import transforms\n",
        "\n",
        "device = torch.device(\"cuda\" if torch.cuda.is_available() else \"cpu\")\n",
        "device"
      ],
      "metadata": {
        "colab": {
          "base_uri": "https://localhost:8080/"
        },
        "id": "jKDIgMegG2Wh",
        "outputId": "640c7437-d949-4a6d-f7de-76d51ad56f4e"
      },
      "execution_count": 15,
      "outputs": [
        {
          "output_type": "execute_result",
          "data": {
            "text/plain": [
              "device(type='cuda')"
            ]
          },
          "metadata": {},
          "execution_count": 15
        }
      ]
    },
    {
      "cell_type": "markdown",
      "source": [
        "## 1.1. Get the train and test dataset from MNIST dataset"
      ],
      "metadata": {
        "id": "3Ktj1sufJHVb"
      }
    },
    {
      "cell_type": "code",
      "source": [
        "train_dataset = MNIST(root=\"data\",\n",
        "                      train=True,\n",
        "                      transform=transforms.ToTensor(),\n",
        "                      target_transform=None,\n",
        "                      download=True\n",
        "                      )\n",
        "test_dataset = MNIST(root=\"data\",\n",
        "                      train=False,\n",
        "                      transform=transforms.ToTensor(),\n",
        "                      target_transform=None,\n",
        "                      download=True\n",
        "                      )\n",
        "\n",
        "print(f\"Length of train dataset: {len(train_dataset):,}\\n\")\n",
        "print(f\"Length of test dataset: {len(test_dataset):,}\\n\")\n",
        "\n",
        "input, label = train_dataset[0]\n",
        "print(f\"Shape of input: {input.shape} \\n\")\n",
        "print(f\"Lable: {label} \\n\")\n",
        "\n",
        "class_names = train_dataset.classes\n",
        "print(f\"There are {len(class_names)} classes in the dataset: \\n\")\n",
        "print(f\"{class_names}\")"
      ],
      "metadata": {
        "colab": {
          "base_uri": "https://localhost:8080/"
        },
        "id": "fWJEiticHhQC",
        "outputId": "3fd6ebb2-e37b-43b6-f9b3-833ff3e5f53d"
      },
      "execution_count": 16,
      "outputs": [
        {
          "output_type": "stream",
          "name": "stdout",
          "text": [
            "Length of train dataset: 60,000\n",
            "\n",
            "Length of test dataset: 10,000\n",
            "\n",
            "Shape of input: torch.Size([1, 28, 28]) \n",
            "\n",
            "Lable: 5 \n",
            "\n",
            "There are 10 classes in the dataset: \n",
            "\n",
            "['0 - zero', '1 - one', '2 - two', '3 - three', '4 - four', '5 - five', '6 - six', '7 - seven', '8 - eight', '9 - nine']\n"
          ]
        }
      ]
    },
    {
      "cell_type": "markdown",
      "source": [
        "## 1.2. Plot some random data from the train dataset"
      ],
      "metadata": {
        "id": "fZ88x5g_JOab"
      }
    },
    {
      "cell_type": "code",
      "source": [
        "import matplotlib.pyplot as plt\n",
        "import numpy as np\n",
        "import random\n",
        "\n",
        "NUM_SAMPLES = 5\n",
        "random_sample_ids = random.sample(range(0, len(train_dataset)), k=NUM_SAMPLES)\n",
        "random_sample_ids\n",
        "\n",
        "fig, axs = plt.subplots(1, NUM_SAMPLES)\n",
        "for i, idx in enumerate(random_sample_ids):\n",
        "  axs[i].imshow(train_dataset[idx][0].squeeze(), cmap=\"gray\")\n",
        "  axs[i].axis(False)\n",
        "  axs[i].set_title(f\"idx={idx}\")\n"
      ],
      "metadata": {
        "colab": {
          "base_uri": "https://localhost:8080/",
          "height": 144
        },
        "id": "uoDn12J_ILnj",
        "outputId": "76ecc784-41d2-463b-ef7f-e65b21bb6e36"
      },
      "execution_count": 17,
      "outputs": [
        {
          "output_type": "display_data",
          "data": {
            "text/plain": [
              "<Figure size 640x480 with 5 Axes>"
            ],
            "image/png": "[encoded data removed]"
          },
          "metadata": {}
        }
      ]
    },
    {
      "cell_type": "markdown",
      "source": [
        "## 1.3 Convert dataset into dataloader"
      ],
      "metadata": {
        "id": "EZ3QexRtE2TT"
      }
    },
    {
      "cell_type": "code",
      "source": [
        "BATCH_SIZE = 32\n",
        "\n",
        "train_dataloder = DataLoader(dataset=train_dataset,\n",
        "                             batch_size=BATCH_SIZE,\n",
        "                             shuffle=True)\n",
        "\n",
        "test_dataloder = DataLoader(dataset=test_dataset,\n",
        "                            batch_size=BATCH_SIZE,\n",
        "                            shuffle=False)\n",
        "\n",
        "print(f\"Length of train dataloder: {len(train_dataloder):,}\\n\")\n",
        "print(f\"Length of test dataloder: {len(test_dataloder):,}\\n\")"
      ],
      "metadata": {
        "colab": {
          "base_uri": "https://localhost:8080/"
        },
        "id": "RZLBjoVpFB6F",
        "outputId": "94e2bc61-ac77-45bd-e4c6-34231d9d85cb"
      },
      "execution_count": 18,
      "outputs": [
        {
          "output_type": "stream",
          "name": "stdout",
          "text": [
            "Length of train dataloder: 1,875\n",
            "\n",
            "Length of test dataloder: 313\n",
            "\n"
          ]
        }
      ]
    },
    {
      "cell_type": "markdown",
      "source": [
        "# 2.&nbsp;Define training and testing loop functions."
      ],
      "metadata": {
        "id": "srHVtz6SDcVz"
      }
    },
    {
      "cell_type": "markdown",
      "source": [
        "## 2.1 Define train_loop()"
      ],
      "metadata": {
        "id": "BsUrMp3jF5E1"
      }
    },
    {
      "cell_type": "code",
      "source": [
        "def train_loop(model: torch.nn.Module,\n",
        "               train_dataloder: torch.utils.data.DataLoader,\n",
        "               optimizer: torch.optim.Optimizer,\n",
        "               loss_fn: torch.nn.Module,\n",
        "               metric_fn,\n",
        "               device: torch.device = device):\n",
        "  model.train()\n",
        "  model.to(device)\n",
        "\n",
        "  train_loss, train_metric = 0, 0\n",
        "  for batch, (X, y) in enumerate(train_dataloder):\n",
        "    X, y = X.to(device), y.to(device)\n",
        "    y_logits = model(X)\n",
        "    loss = loss_fn(y_logits, y)\n",
        "\n",
        "    y_prob = y_logits.softmax(dim=1).argmax(dim=1)\n",
        "    metric = metric_fn(y_prob, y)\n",
        "\n",
        "    train_loss += loss.detach()\n",
        "    train_metric += metric.detach()\n",
        "\n",
        "    optimizer.zero_grad()\n",
        "    loss.backward()\n",
        "    optimizer.step()\n",
        "\n",
        "  return train_loss/len(train_dataloder), train_metric/len(train_dataloder)"
      ],
      "metadata": {
        "id": "GGdtXODNF1FZ"
      },
      "execution_count": 19,
      "outputs": []
    },
    {
      "cell_type": "markdown",
      "source": [
        "## 2.2 Define test_loop()"
      ],
      "metadata": {
        "id": "ufDd0YUdHeRG"
      }
    },
    {
      "cell_type": "code",
      "source": [
        "def test_loop(model: torch.nn.Module,\n",
        "              test_dataloder: torch.utils.data.DataLoader,\n",
        "              optimizer: torch.optim.Optimizer,\n",
        "              loss_fn: torch.nn.Module,\n",
        "              metric_fn,\n",
        "              device: torch.device = device):\n",
        "  model.eval()\n",
        "  model.to(device)\n",
        "\n",
        "  with torch.inference_mode():\n",
        "    test_loss, test_metric = 0 ,0\n",
        "    for batch, (X_test, y_test) in enumerate(test_dataloder):\n",
        "      X_test, y_test = X_test.to(device), y_test.to(device)\n",
        "      test_logits = model(X_test)\n",
        "      loss = loss_fn(test_logits, y_test)\n",
        "\n",
        "      test_prob = test_logits.softmax(dim=1).argmax(dim=1)\n",
        "      metric = metric_fn(test_prob, y_test)\n",
        "\n",
        "      test_loss += loss.detach()\n",
        "      test_metric += metric.detach()\n",
        "\n",
        "  return test_loss/len(test_dataloder), test_metric/len(test_dataloder)"
      ],
      "metadata": {
        "id": "w8RuPyb-Hi9M"
      },
      "execution_count": 20,
      "outputs": []
    },
    {
      "cell_type": "markdown",
      "source": [
        "# 3.&nbsp;Define training model function to use training and test loop functions."
      ],
      "metadata": {
        "id": "2fOVx3F-FwYl"
      }
    },
    {
      "cell_type": "code",
      "source": [
        "from tqdm.auto import tqdm\n",
        "\n",
        "def train_model(model: torch.nn.Module,\n",
        "                train_dataloder: torch.utils.data.DataLoader,\n",
        "                test_dataloder: torch.utils.data.DataLoader,\n",
        "                optimizer: torch.optim.Optimizer,\n",
        "                loss_fn: torch.nn.Module,\n",
        "                metric_fn,\n",
        "                device: torch.device = device,\n",
        "                epochs: int = 5):\n",
        "\n",
        "  results = {\"train_loss\": [],\n",
        "            \"train_metric\": [],\n",
        "            \"test_loss\":[],\n",
        "            \"test_metric\": []}\n",
        "\n",
        "  for epoch in tqdm(range(epochs), desc=\"Training model...\"):\n",
        "    train_loss, train_metric = train_loop(model=model,\n",
        "                                          train_dataloder=train_dataloder,\n",
        "                                          optimizer=optimizer,\n",
        "                                          loss_fn = loss_fn,\n",
        "                                          metric_fn=metric_fn,\n",
        "                                          device=device)\n",
        "\n",
        "    test_loss, test_metric = test_loop(model=model,\n",
        "                                       test_dataloder=test_dataloder,\n",
        "                                       optimizer=optimizer,\n",
        "                                       loss_fn= loss_fn,\n",
        "                                       metric_fn = metric_fn,\n",
        "                                       device=device)\n",
        "\n",
        "    print(f\"Epoch:{epoch:3n} | Train loss:{train_loss:.5f}, train metric:{train_metric:.2%} | Test loss:{test_loss:.5f}, test metric:{test_metric:.2%}\")\n",
        "\n",
        "    results[\"train_loss\"].append(train_loss.item())\n",
        "    results[\"train_metric\"].append(train_metric.item())\n",
        "    results[\"test_loss\"].append(test_loss.item())\n",
        "    results[\"test_metric\"].append(test_metric.item())\n",
        "\n",
        "  return results"
      ],
      "metadata": {
        "id": "xNV8tYWeIwiK"
      },
      "execution_count": 21,
      "outputs": []
    },
    {
      "cell_type": "markdown",
      "source": [
        "# 4.&nbsp;Define model by replicating CNN Explainer"
      ],
      "metadata": {
        "id": "420D1hW1Fwlu"
      }
    },
    {
      "cell_type": "markdown",
      "source": [
        "## 4.1 Define model class"
      ],
      "metadata": {
        "id": "HMZFe7f9P5V2"
      }
    },
    {
      "cell_type": "code",
      "source": [
        "# https://poloclub.github.io/cnn-explainer/\n",
        "\n",
        "import torch.nn as nn\n",
        "\n",
        "class MyMNISTModel(nn.Module):\n",
        "  def __init__(self, input_shapes: int, hidden_units: int, output_shapes: int):\n",
        "    super().__init__()\n",
        "    self.conv1 = nn.Sequential(\n",
        "        nn.Conv2d(in_channels=input_shapes,\n",
        "                  out_channels=hidden_units,\n",
        "                  kernel_size=3,\n",
        "                  stride=1,\n",
        "                  padding=1),\n",
        "        nn.ReLU(),\n",
        "        nn.Conv2d(hidden_units, hidden_units,3, 1, 1),\n",
        "        nn.ReLU(),\n",
        "        nn.MaxPool2d(kernel_size=2)\n",
        "    )\n",
        "    self.conv2 = nn.Sequential(\n",
        "    nn.Conv2d(hidden_units, hidden_units,3, 1, 1),\n",
        "    nn.ReLU(),\n",
        "    nn.Conv2d(hidden_units, hidden_units,3, 1, 1),\n",
        "    nn.ReLU(),\n",
        "    nn.MaxPool2d(kernel_size=2)\n",
        "    )\n",
        "    self.classifier = nn.Sequential(\n",
        "        nn.Flatten(),\n",
        "        nn.Linear(in_features=hidden_units * 7 * 7,\n",
        "                  out_features=output_shapes)\n",
        "    )\n",
        "\n",
        "  def forward(self, x: torch.Tensor) -> torch.Tensor:\n",
        "    x = self.conv1(x)\n",
        "    # print(f\"Shape after conv1:{x.shape}\")\n",
        "    x = self.conv2(x)\n",
        "    # print(f\"Shape after conv2:{x.shape}\")\n",
        "    x = self.classifier(x)\n",
        "    # print(f\"Shape after classifier:{x.shape}\")\n",
        "    return x\n",
        "\n",
        "model_0 = MyMNISTModel(input_shapes=1,\n",
        "                       hidden_units=10,\n",
        "                       output_shapes=len(class_names))\n",
        "model_0"
      ],
      "metadata": {
        "colab": {
          "base_uri": "https://localhost:8080/"
        },
        "id": "yjttp7qgKs38",
        "outputId": "0afe1aaa-e2ca-498a-ad29-a641bbdbaea7"
      },
      "execution_count": 22,
      "outputs": [
        {
          "output_type": "execute_result",
          "data": {
            "text/plain": [
              "MyMNISTModel(\n",
              "  (conv1): Sequential(\n",
              "    (0): Conv2d(1, 10, kernel_size=(3, 3), stride=(1, 1), padding=(1, 1))\n",
              "    (1): ReLU()\n",
              "    (2): Conv2d(10, 10, kernel_size=(3, 3), stride=(1, 1), padding=(1, 1))\n",
              "    (3): ReLU()\n",
              "    (4): MaxPool2d(kernel_size=2, stride=2, padding=0, dilation=1, ceil_mode=False)\n",
              "  )\n",
              "  (conv2): Sequential(\n",
              "    (0): Conv2d(10, 10, kernel_size=(3, 3), stride=(1, 1), padding=(1, 1))\n",
              "    (1): ReLU()\n",
              "    (2): Conv2d(10, 10, kernel_size=(3, 3), stride=(1, 1), padding=(1, 1))\n",
              "    (3): ReLU()\n",
              "    (4): MaxPool2d(kernel_size=2, stride=2, padding=0, dilation=1, ceil_mode=False)\n",
              "  )\n",
              "  (classifier): Sequential(\n",
              "    (0): Flatten(start_dim=1, end_dim=-1)\n",
              "    (1): Linear(in_features=490, out_features=10, bias=True)\n",
              "  )\n",
              ")"
            ]
          },
          "metadata": {},
          "execution_count": 22
        }
      ]
    },
    {
      "cell_type": "markdown",
      "source": [
        "## 4.2 Test the new model"
      ],
      "metadata": {
        "id": "uZ_TklniP-ZD"
      }
    },
    {
      "cell_type": "code",
      "source": [
        "X, y = train_dataset[0]\n",
        "y_pred = model_0(X.unsqueeze(0)).softmax(dim=1).argmax(dim=1)\n",
        "print(f\"X.shape:{X.shape}, y:{y}, prediction:{y_pred.item()}\")"
      ],
      "metadata": {
        "colab": {
          "base_uri": "https://localhost:8080/"
        },
        "id": "4dT8XFWsQIeB",
        "outputId": "64d76d28-5d1a-4742-b9ca-29d1b3338f8d"
      },
      "execution_count": 23,
      "outputs": [
        {
          "output_type": "stream",
          "name": "stdout",
          "text": [
            "X.shape:torch.Size([1, 28, 28]), y:5, prediction:4\n"
          ]
        }
      ]
    },
    {
      "cell_type": "markdown",
      "source": [
        "# 5.&nbsp;Define loss function, accuracy function and optimizer."
      ],
      "metadata": {
        "id": "GW4bmI-bFwpS"
      }
    },
    {
      "cell_type": "markdown",
      "source": [
        "## 5.1. Use metric functions in trochmetrics package"
      ],
      "metadata": {
        "id": "eLwq86RXRcUG"
      }
    },
    {
      "cell_type": "code",
      "source": [
        "try:\n",
        "  import torchmetrics\n",
        "except:\n",
        "  !pip install torchmetrics --quiet\n",
        "  import torchmetrics"
      ],
      "metadata": {
        "id": "rIoHU7GvRFUS"
      },
      "execution_count": 24,
      "outputs": []
    },
    {
      "cell_type": "markdown",
      "source": [
        "## 5.2. Define the functions"
      ],
      "metadata": {
        "id": "mX1IXPG1RofH"
      }
    },
    {
      "cell_type": "code",
      "source": [
        "optimizer = torch.optim.Adam(params=model_0.parameters(), lr = 0.01)\n",
        "loss_fn = torch.nn.CrossEntropyLoss()\n",
        "\n",
        "from torchmetrics.classification import MulticlassAccuracy\n",
        "acc_fn = MulticlassAccuracy(num_classes=len(class_names)).to(device)"
      ],
      "metadata": {
        "id": "aTsL2JoBRwGk"
      },
      "execution_count": 25,
      "outputs": []
    },
    {
      "cell_type": "markdown",
      "source": [
        "# 6.&nbsp;Train the model."
      ],
      "metadata": {
        "id": "afghsT5jFwsm"
      }
    },
    {
      "cell_type": "code",
      "source": [
        "import timeit\n",
        "\n",
        "start = timeit.default_timer()\n",
        "\n",
        "NUM_EPOCHS = 5\n",
        "\n",
        "model_0_train_results = train_model(model=model_0,\n",
        "                              train_dataloder=train_dataloder,\n",
        "                              test_dataloder=test_dataloder,\n",
        "                              optimizer=optimizer,\n",
        "                              loss_fn = loss_fn,\n",
        "                              metric_fn=acc_fn,\n",
        "                              device = device,\n",
        "                              epochs=NUM_EPOCHS)\n",
        "\n",
        "end = timeit.default_timer()\n",
        "model_0_train_time = end-start\n",
        "\n",
        "print()\n",
        "print(f\"Train time is:{model_0_train_time:.2f} seconds\")\n",
        "print(f\"Train results are:\")\n",
        "print(f\"Train loss:{model_0_train_results['train_loss']}\")\n",
        "print(f\"Train accuracy:{model_0_train_results['train_metric']}\")\n",
        "print(f\"Test  loss:{model_0_train_results['test_loss']}\")\n",
        "print(f\"Test  accuracy:{model_0_train_results['test_metric']}\")\n"
      ],
      "metadata": {
        "colab": {
          "base_uri": "https://localhost:8080/",
          "height": 263,
          "referenced_widgets": [
            "ada4fe8a46bd4c1ca4545ada633e5812",
            "25d6392f4c2a4c1882f21d67fdff3bab",
            "5593f1d19b5640b4a619ad59741e458a",
            "f3bf29a2ee1a457f9932a002794ff6fb",
            "8f10f1833092405586dd9dbe238362e3",
            "f037b060e4984f3990a020cc01bf155c",
            "165d70d31ac94c44a5fc2a6e31add62b",
            "6591c27a225a4150b44762ac088c3ad4",
            "b726857a268e458c968c27621e5e6758",
            "db8fc1ada72241079f54066808906d14",
            "11bc4ae25271468aa42b010f9ba5c0b6"
          ]
        },
        "id": "KFE0kKquTqaO",
        "outputId": "94766924-c94f-4a98-bfed-6619001a12e1"
      },
      "execution_count": 26,
      "outputs": [
        {
          "output_type": "display_data",
          "data": {
            "text/plain": [
              "Training model...:   0%|          | 0/5 [00:00<?, ?it/s]"
            ],
            "application/vnd.jupyter.widget-view+json": {
              "version_major": 2,
              "version_minor": 0,
              "model_id": "ada4fe8a46bd4c1ca4545ada633e5812"
            }
          },
          "metadata": {}
        },
        {
          "output_type": "stream",
          "name": "stdout",
          "text": [
            "Epoch:  0 | Train loss:0.18021, train metric:94.00% | Test loss:0.09697, test metric:96.63%\n",
            "Epoch:  1 | Train loss:0.10130, train metric:96.57% | Test loss:0.09512, test metric:96.87%\n",
            "Epoch:  2 | Train loss:0.09724, train metric:96.73% | Test loss:0.08024, test metric:97.13%\n",
            "Epoch:  3 | Train loss:0.09406, train metric:96.76% | Test loss:0.07201, test metric:97.45%\n",
            "Epoch:  4 | Train loss:0.08597, train metric:97.07% | Test loss:0.09155, test metric:96.63%\n",
            "\n",
            "Train time is:81.68 seconds\n",
            "Train results are:\n",
            "Train loss:[0.18021398782730103, 0.10129658877849579, 0.0972415879368782, 0.09405995160341263, 0.08597376942634583]\n",
            "Train accuracy:[0.9399937391281128, 0.9656715989112854, 0.9673003554344177, 0.9676467180252075, 0.9707381129264832]\n",
            "Test  loss:[0.09697359800338745, 0.09511983394622803, 0.0802408829331398, 0.07201364636421204, 0.09154995530843735]\n",
            "Test  accuracy:[0.9662788510322571, 0.9686563611030579, 0.9712702631950378, 0.974460780620575, 0.9662668704986572]\n"
          ]
        }
      ]
    },
    {
      "cell_type": "markdown",
      "source": [
        "# 7.&nbsp;Make predictions and eval the model."
      ],
      "metadata": {
        "id": "eT-faJ1BFwvx"
      }
    },
    {
      "cell_type": "markdown",
      "source": [
        "## 7.1. Define make_predictions() function"
      ],
      "metadata": {
        "id": "KMQPhGt7cNJv"
      }
    },
    {
      "cell_type": "code",
      "source": [
        "def make_predictions(model: torch.nn.Module,\n",
        "                     data: list,\n",
        "                     device: torch.device = device):\n",
        "\n",
        "  pred_probs, pred_labels = [], []\n",
        "\n",
        "  model.to(device)\n",
        "  model.eval()\n",
        "  with torch.inference_mode():\n",
        "    for sample, label in data:\n",
        "      sample = torch.as_tensor(sample).to(device)\n",
        "      label = torch.as_tensor(label).to(device)\n",
        "\n",
        "      pred_logits = model(sample.unsqueeze(0))\n",
        "      pred_prob = pred_logits.softmax(dim=1).argmax(dim=1)\n",
        "\n",
        "      pred_probs.append(pred_prob.item())\n",
        "      pred_labels.append(label.item())\n",
        "\n",
        "  return pred_probs, pred_labels"
      ],
      "metadata": {
        "id": "DfZVD_EXcSCw"
      },
      "execution_count": 27,
      "outputs": []
    },
    {
      "cell_type": "markdown",
      "source": [
        "## 7.2. Make predictions for random samples"
      ],
      "metadata": {
        "id": "7mOxpn6_wolM"
      }
    },
    {
      "cell_type": "code",
      "source": [
        "NUM_PLOTS = 10\n",
        "random_samples = random.sample(list(test_dataset), k=NUM_PLOTS)\n",
        "\n",
        "random_probs, random_labels = make_predictions(model=model_0,\n",
        "                                               data=random_samples,\n",
        "                                               device=device)\n",
        "\n",
        "fig, axs = plt.subplots(1, NUM_PLOTS, figsize=(10,10))\n",
        "for i in range(NUM_PLOTS):\n",
        "  axs[i].axis(False)\n",
        "  axs[i].imshow(random_samples[i][0].squeeze(), cmap=\"gray\")\n",
        "  title = f\"P:{random_probs[i]} | T:{random_labels[i]}\"\n",
        "  if random_probs[i] == random_labels[i]:\n",
        "    axs[i].set_title(title, c=\"green\")\n",
        "  else:\n",
        "    axs[i].set_title(title, c=\"red\")"
      ],
      "metadata": {
        "colab": {
          "base_uri": "https://localhost:8080/",
          "height": 125
        },
        "id": "68TxNCa5bQlZ",
        "outputId": "5c49d8c9-e0f4-477f-a212-dc6f56006fb8"
      },
      "execution_count": 28,
      "outputs": [
        {
          "output_type": "display_data",
          "data": {
            "text/plain": [
              "<Figure size 1000x1000 with 10 Axes>"
            ],
            "image/png": "[encoded data removed]"
          },
          "metadata": {}
        }
      ]
    },
    {
      "cell_type": "markdown",
      "source": [
        "## 7.3. Define eval_model() function"
      ],
      "metadata": {
        "id": "FN4k5nhuKjKy"
      }
    },
    {
      "cell_type": "code",
      "source": [
        "from logging import logMultiprocessing\n",
        "def eval_model(model: torch.nn.Module,\n",
        "               dataloader: torch.utils.data.DataLoader,\n",
        "               loss_fn: torch.nn.Module,\n",
        "               metric_fn,\n",
        "               device: torch.device = device):\n",
        "\n",
        "  eval_results ={}\n",
        "\n",
        "  model.eval()\n",
        "  model.to(device)\n",
        "\n",
        "  with torch.inference_mode():\n",
        "    eval_loss, eval_metric = 0, 0\n",
        "\n",
        "    for sample, label in dataloader:\n",
        "      sample = sample.to(device)\n",
        "      label = label.to(device)\n",
        "\n",
        "      eval_logits = model(sample)\n",
        "      loss = loss_fn(eval_logits.squeeze(0), label)\n",
        "      eval_loss += loss\n",
        "\n",
        "      eval_prob = eval_logits.softmax(dim=1).argmax(dim=1)\n",
        "      metric = metric_fn(eval_prob, label)\n",
        "      eval_metric += metric\n",
        "\n",
        "    eval_results[\"model_loss\"] = eval_loss.item()/len(dataloader)\n",
        "    eval_results[\"model_metric\"] = eval_metric.item()/len(dataloader)\n",
        "\n",
        "  return eval_results"
      ],
      "metadata": {
        "id": "wSDvIW6IKzaK"
      },
      "execution_count": 29,
      "outputs": []
    },
    {
      "cell_type": "markdown",
      "source": [
        "## 7.4. Evaluate the model and save the results"
      ],
      "metadata": {
        "id": "6MX4mRFtTe42"
      }
    },
    {
      "cell_type": "code",
      "source": [
        "model_0_eval_results = eval_model(model=model_0,\n",
        "                                  dataloader=test_dataloder,\n",
        "                                  loss_fn=loss_fn,\n",
        "                                  metric_fn=acc_fn,\n",
        "                                  device = device)\n",
        "model_0_eval_results"
      ],
      "metadata": {
        "colab": {
          "base_uri": "https://localhost:8080/"
        },
        "id": "c9SsK9KOTjVw",
        "outputId": "bae4d379-8fdf-4dff-fd27-8bf590003d9a"
      },
      "execution_count": 30,
      "outputs": [
        {
          "output_type": "execute_result",
          "data": {
            "text/plain": [
              "{'model_loss': 0.09154995561788638, 'model_metric': 0.9662668636431709}"
            ]
          },
          "metadata": {},
          "execution_count": 30
        }
      ]
    },
    {
      "cell_type": "markdown",
      "source": [
        "# 8.&nbsp;Plot confusion matrix."
      ],
      "metadata": {
        "id": "oIGepqvyGdaN"
      }
    },
    {
      "cell_type": "markdown",
      "source": [
        "## 8.1. Make prediction for all test_dataset"
      ],
      "metadata": {
        "id": "Q269Zd7Uxx8S"
      }
    },
    {
      "cell_type": "code",
      "source": [
        "pred_probs, pred_labels = make_predictions(model=model_0,\n",
        "                                           data=test_dataset,\n",
        "                                           device = device)\n",
        "print(f\"First 5 of preds : {pred_probs[:5]}\")\n",
        "print(f\"First 5 of labels: {pred_labels[:5]}\")"
      ],
      "metadata": {
        "colab": {
          "base_uri": "https://localhost:8080/"
        },
        "id": "q0qEIo3yx-FF",
        "outputId": "0b4d2485-f274-4108-8983-f50ad03113de"
      },
      "execution_count": 31,
      "outputs": [
        {
          "output_type": "stream",
          "name": "stdout",
          "text": [
            "First 5 of preds : [7, 2, 1, 0, 4]\n",
            "First 5 of labels: [7, 2, 1, 0, 4]\n"
          ]
        }
      ]
    },
    {
      "cell_type": "markdown",
      "source": [
        "## 8.2. Calculate and plot the confusion matrix"
      ],
      "metadata": {
        "id": "aIiU85K5x4Xm"
      }
    },
    {
      "cell_type": "code",
      "source": [
        "from torchmetrics.classification import MulticlassConfusionMatrix\n",
        "metric = MulticlassConfusionMatrix(num_classes=len(class_names))\n",
        "metric.update(torch.tensor(pred_probs), torch.tensor(pred_labels))\n",
        "metric.plot()"
      ],
      "metadata": {
        "colab": {
          "base_uri": "https://localhost:8080/",
          "height": 544
        },
        "id": "EgUHy5oBbLU1",
        "outputId": "0a32519c-206e-42da-d717-b1576ec35ba5"
      },
      "execution_count": 32,
      "outputs": [
        {
          "output_type": "execute_result",
          "data": {
            "text/plain": [
              "(<Figure size 640x480 with 1 Axes>,\n",
              " <Axes: xlabel='Predicted class', ylabel='True class'>)"
            ]
          },
          "metadata": {},
          "execution_count": 32
        },
        {
          "output_type": "display_data",
          "data": {
            "text/plain": [
              "<Figure size 640x480 with 1 Axes>"
            ],
            "image/png": "[encoded data removed]"
          },
          "metadata": {}
        }
      ]
    },
    {
      "cell_type": "markdown",
      "source": [
        "# 9.&nbsp;Plot loss and accurancy curves"
      ],
      "metadata": {
        "id": "grcP-U5cQuza"
      }
    },
    {
      "cell_type": "code",
      "source": [
        "plt.figure(figsize=(10,5))\n",
        "\n",
        "epochs=range(1, NUM_EPOCHS+1)\n",
        "\n",
        "# Plot loss\n",
        "plt.subplot(1,2,1)\n",
        "plt.plot(epochs, model_0_train_results[\"train_loss\"], label=\"Train loss\")\n",
        "plt.plot(epochs, model_0_train_results[\"test_loss\"], label=\"Test loss\")\n",
        "plt.title(\"Loss\")\n",
        "plt.xlabel(\"Epoch\")\n",
        "plt.legend()\n",
        "\n",
        "# Plot accuracy\n",
        "plt.subplot(1,2,2)\n",
        "plt.plot(epochs, model_0_train_results[\"train_metric\"], label=\"Train metric\")\n",
        "plt.plot(epochs, model_0_train_results[\"test_metric\"], label=\"Test metric\")\n",
        "plt.title(\"Accuracy\")\n",
        "plt.xlabel(\"Epoch\")\n",
        "plt.legend()"
      ],
      "metadata": {
        "colab": {
          "base_uri": "https://localhost:8080/",
          "height": 505
        },
        "id": "Au-S4J-WQ0Nt",
        "outputId": "727bb93c-e0a1-483f-8f39-052c406fd43f"
      },
      "execution_count": 33,
      "outputs": [
        {
          "output_type": "execute_result",
          "data": {
            "text/plain": [
              "<matplotlib.legend.Legend at 0x78ea60446fb0>"
            ]
          },
          "metadata": {},
          "execution_count": 33
        },
        {
          "output_type": "display_data",
          "data": {
            "text/plain": [
              "<Figure size 1000x500 with 2 Axes>"
            ],
            "image/png": "[encoded data removed]"
          },
          "metadata": {}
        }
      ]
    },
    {
      "cell_type": "markdown",
      "source": [
        "# 10.&nbsp;Plot some wrong predictions."
      ],
      "metadata": {
        "id": "gbDwQ044GeZM"
      }
    },
    {
      "cell_type": "code",
      "source": [
        "wrong_predictions_ids = []\n",
        "for i in range(len(pred_probs)):\n",
        "  if pred_probs[i] != pred_labels[i]:\n",
        "    wrong_predictions_ids.append(i)\n",
        "\n",
        "random_ids = random.sample(wrong_predictions_ids, k=NUM_PLOTS)\n",
        "fig, axs = plt.subplots(1, NUM_PLOTS, figsize=(10,5))\n",
        "\n",
        "for i, idx in enumerate(random_ids):\n",
        "  axs[i].imshow(test_dataset[idx][0].squeeze(0), cmap=\"gray\")\n",
        "  axs[i].axis(False)\n",
        "  axs[i].set_title(f\"P:{pred_probs[idx]}|T:{pred_labels[idx]}\", {\"color\":\"red\"})"
      ],
      "metadata": {
        "colab": {
          "base_uri": "https://localhost:8080/",
          "height": 125
        },
        "id": "pyJXyajFWqCH",
        "outputId": "323c862a-77ba-43a3-f909-af59cfacfb12"
      },
      "execution_count": 34,
      "outputs": [
        {
          "output_type": "display_data",
          "data": {
            "text/plain": [
              "<Figure size 1000x500 with 10 Axes>"
            ],
            "image/png": "[encoded data removed]"
          },
          "metadata": {}
        }
      ]
    },
    {
      "cell_type": "markdown",
      "source": [
        "# 11.&nbsp;Save the model."
      ],
      "metadata": {
        "id": "qpIoT1x9Ge3t"
      }
    },
    {
      "cell_type": "markdown",
      "source": [
        "## 11.1. Save the state_dict"
      ],
      "metadata": {
        "id": "VcjKlJRe4Yk1"
      }
    },
    {
      "cell_type": "code",
      "source": [
        "from pathlib import Path\n",
        "MODEL_PATH = Path(\"model\")\n",
        "MODEL_PATH.mkdir(parents=True, exist_ok=True)\n",
        "\n",
        "MODEL_NAME = f\"PyTorch_nn_MNIST.pth\"\n",
        "MODEL_SAVE_PATH = MODEL_PATH / MODEL_NAME\n",
        "print(f\"Saving model state_dict to {MODEL_SAVE_PATH}\\n\")\n",
        "\n",
        "torch.save(obj=model_0.state_dict(), f=MODEL_SAVE_PATH)\n",
        "print(f\"list all files in the model folder:\")\n",
        "!ls -l model"
      ],
      "metadata": {
        "colab": {
          "base_uri": "https://localhost:8080/"
        },
        "id": "h4nLRKBE4c5D",
        "outputId": "61bd9f52-634b-4ab9-c88f-fa31f6d5d09e"
      },
      "execution_count": 35,
      "outputs": [
        {
          "output_type": "stream",
          "name": "stdout",
          "text": [
            "Saving model state_dict to model/PyTorch_nn_MNIST.pth\n",
            "\n",
            "list all files in the model folder:\n",
            "total 36\n",
            "-rw-r--r-- 1 root root 34870 Aug 21 14:58 PyTorch_nn_MNIST.pth\n"
          ]
        }
      ]
    },
    {
      "cell_type": "markdown",
      "source": [
        "## 11.2. Load saved state_dict"
      ],
      "metadata": {
        "id": "bQp4U9kdT_e8"
      }
    },
    {
      "cell_type": "code",
      "source": [
        "model_reloaded = MyMNISTModel(input_shapes=1,\n",
        "                              hidden_units=10,\n",
        "                              output_shapes=len(class_names))\n",
        "\n",
        "model_reloaded.load_state_dict(torch.load(f=MODEL_SAVE_PATH))\n",
        "\n",
        "model_reloaded_eval_results = eval_model(model=model_reloaded,\n",
        "                                     dataloader=test_dataloder,\n",
        "                                     loss_fn=loss_fn,\n",
        "                                     metric_fn=acc_fn,\n",
        "                                     device = device)\n",
        "\n",
        "print(f\"The new loaded model eval results:\\n\")\n",
        "print(model_reloaded_eval_results)\n",
        "\n",
        "print(f\"The origianl model eval results:\\n\")\n",
        "print(model_0_eval_results)\n"
      ],
      "metadata": {
        "colab": {
          "base_uri": "https://localhost:8080/"
        },
        "id": "Rs4dR0AIUEbM",
        "outputId": "e0d27753-13d9-4dfe-b449-0a903c745c73"
      },
      "execution_count": 36,
      "outputs": [
        {
          "output_type": "stream",
          "name": "stdout",
          "text": [
            "The new loaded model eval results:\n",
            "\n",
            "{'model_loss': 0.09154995561788638, 'model_metric': 0.9662668636431709}\n",
            "The origianl model eval results:\n",
            "\n",
            "{'model_loss': 0.09154995561788638, 'model_metric': 0.9662668636431709}\n"
          ]
        }
      ]
    }
  ]
}