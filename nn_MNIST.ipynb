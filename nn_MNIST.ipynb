{
  "nbformat": 4,
  "nbformat_minor": 0,
  "metadata": {
    "colab": {
      "provenance": [],
      "authorship_tag": "ABX9TyNEf7ZSs0lu/r0BtI+Ye9oO",
      "include_colab_link": true
    },
    "kernelspec": {
      "name": "python3",
      "display_name": "Python 3"
    },
    "language_info": {
      "name": "python"
    },
    "widgets": {
      "application/vnd.jupyter.widget-state+json": {
        "580404f27fa942d6ad816ac5e8d5829a": {
          "model_module": "@jupyter-widgets/controls",
          "model_name": "HBoxModel",
          "model_module_version": "1.5.0",
          "state": {
            "_dom_classes": [],
            "_model_module": "@jupyter-widgets/controls",
            "_model_module_version": "1.5.0",
            "_model_name": "HBoxModel",
            "_view_count": null,
            "_view_module": "@jupyter-widgets/controls",
            "_view_module_version": "1.5.0",
            "_view_name": "HBoxView",
            "box_style": "",
            "children": [
              "IPY_MODEL_316b7786ba104cfe84d2373e598112fb",
              "IPY_MODEL_db58ac7ff2fe4553b01a3baeb4e3816d",
              "IPY_MODEL_3acf0c242c3246ce9ec08745e409bed2"
            ],
            "layout": "IPY_MODEL_b71ac782869b4cf7914479cf05d10a2e"
          }
        },
        "316b7786ba104cfe84d2373e598112fb": {
          "model_module": "@jupyter-widgets/controls",
          "model_name": "HTMLModel",
          "model_module_version": "1.5.0",
          "state": {
            "_dom_classes": [],
            "_model_module": "@jupyter-widgets/controls",
            "_model_module_version": "1.5.0",
            "_model_name": "HTMLModel",
            "_view_count": null,
            "_view_module": "@jupyter-widgets/controls",
            "_view_module_version": "1.5.0",
            "_view_name": "HTMLView",
            "description": "",
            "description_tooltip": null,
            "layout": "IPY_MODEL_b75c8929475b47628415a3763bdce499",
            "placeholder": "​",
            "style": "IPY_MODEL_8ec39aa7ddfd4f16a94d0d9a996c16d0",
            "value": "Training model...: 100%"
          }
        },
        "db58ac7ff2fe4553b01a3baeb4e3816d": {
          "model_module": "@jupyter-widgets/controls",
          "model_name": "FloatProgressModel",
          "model_module_version": "1.5.0",
          "state": {
            "_dom_classes": [],
            "_model_module": "@jupyter-widgets/controls",
            "_model_module_version": "1.5.0",
            "_model_name": "FloatProgressModel",
            "_view_count": null,
            "_view_module": "@jupyter-widgets/controls",
            "_view_module_version": "1.5.0",
            "_view_name": "ProgressView",
            "bar_style": "success",
            "description": "",
            "description_tooltip": null,
            "layout": "IPY_MODEL_b2ce1dd333694101a362ef10d8d7fef9",
            "max": 3,
            "min": 0,
            "orientation": "horizontal",
            "style": "IPY_MODEL_fc8b1e8d652c4637bc0f94e644e7df85",
            "value": 3
          }
        },
        "3acf0c242c3246ce9ec08745e409bed2": {
          "model_module": "@jupyter-widgets/controls",
          "model_name": "HTMLModel",
          "model_module_version": "1.5.0",
          "state": {
            "_dom_classes": [],
            "_model_module": "@jupyter-widgets/controls",
            "_model_module_version": "1.5.0",
            "_model_name": "HTMLModel",
            "_view_count": null,
            "_view_module": "@jupyter-widgets/controls",
            "_view_module_version": "1.5.0",
            "_view_name": "HTMLView",
            "description": "",
            "description_tooltip": null,
            "layout": "IPY_MODEL_0eca8aa470474eeba0037dcdafa5a87e",
            "placeholder": "​",
            "style": "IPY_MODEL_d56fd46d04fb4a2eb0c7638173f8b8ff",
            "value": " 3/3 [02:54&lt;00:00, 57.87s/it]"
          }
        },
        "b71ac782869b4cf7914479cf05d10a2e": {
          "model_module": "@jupyter-widgets/base",
          "model_name": "LayoutModel",
          "model_module_version": "1.2.0",
          "state": {
            "_model_module": "@jupyter-widgets/base",
            "_model_module_version": "1.2.0",
            "_model_name": "LayoutModel",
            "_view_count": null,
            "_view_module": "@jupyter-widgets/base",
            "_view_module_version": "1.2.0",
            "_view_name": "LayoutView",
            "align_content": null,
            "align_items": null,
            "align_self": null,
            "border": null,
            "bottom": null,
            "display": null,
            "flex": null,
            "flex_flow": null,
            "grid_area": null,
            "grid_auto_columns": null,
            "grid_auto_flow": null,
            "grid_auto_rows": null,
            "grid_column": null,
            "grid_gap": null,
            "grid_row": null,
            "grid_template_areas": null,
            "grid_template_columns": null,
            "grid_template_rows": null,
            "height": null,
            "justify_content": null,
            "justify_items": null,
            "left": null,
            "margin": null,
            "max_height": null,
            "max_width": null,
            "min_height": null,
            "min_width": null,
            "object_fit": null,
            "object_position": null,
            "order": null,
            "overflow": null,
            "overflow_x": null,
            "overflow_y": null,
            "padding": null,
            "right": null,
            "top": null,
            "visibility": null,
            "width": null
          }
        },
        "b75c8929475b47628415a3763bdce499": {
          "model_module": "@jupyter-widgets/base",
          "model_name": "LayoutModel",
          "model_module_version": "1.2.0",
          "state": {
            "_model_module": "@jupyter-widgets/base",
            "_model_module_version": "1.2.0",
            "_model_name": "LayoutModel",
            "_view_count": null,
            "_view_module": "@jupyter-widgets/base",
            "_view_module_version": "1.2.0",
            "_view_name": "LayoutView",
            "align_content": null,
            "align_items": null,
            "align_self": null,
            "border": null,
            "bottom": null,
            "display": null,
            "flex": null,
            "flex_flow": null,
            "grid_area": null,
            "grid_auto_columns": null,
            "grid_auto_flow": null,
            "grid_auto_rows": null,
            "grid_column": null,
            "grid_gap": null,
            "grid_row": null,
            "grid_template_areas": null,
            "grid_template_columns": null,
            "grid_template_rows": null,
            "height": null,
            "justify_content": null,
            "justify_items": null,
            "left": null,
            "margin": null,
            "max_height": null,
            "max_width": null,
            "min_height": null,
            "min_width": null,
            "object_fit": null,
            "object_position": null,
            "order": null,
            "overflow": null,
            "overflow_x": null,
            "overflow_y": null,
            "padding": null,
            "right": null,
            "top": null,
            "visibility": null,
            "width": null
          }
        },
        "8ec39aa7ddfd4f16a94d0d9a996c16d0": {
          "model_module": "@jupyter-widgets/controls",
          "model_name": "DescriptionStyleModel",
          "model_module_version": "1.5.0",
          "state": {
            "_model_module": "@jupyter-widgets/controls",
            "_model_module_version": "1.5.0",
            "_model_name": "DescriptionStyleModel",
            "_view_count": null,
            "_view_module": "@jupyter-widgets/base",
            "_view_module_version": "1.2.0",
            "_view_name": "StyleView",
            "description_width": ""
          }
        },
        "b2ce1dd333694101a362ef10d8d7fef9": {
          "model_module": "@jupyter-widgets/base",
          "model_name": "LayoutModel",
          "model_module_version": "1.2.0",
          "state": {
            "_model_module": "@jupyter-widgets/base",
            "_model_module_version": "1.2.0",
            "_model_name": "LayoutModel",
            "_view_count": null,
            "_view_module": "@jupyter-widgets/base",
            "_view_module_version": "1.2.0",
            "_view_name": "LayoutView",
            "align_content": null,
            "align_items": null,
            "align_self": null,
            "border": null,
            "bottom": null,
            "display": null,
            "flex": null,
            "flex_flow": null,
            "grid_area": null,
            "grid_auto_columns": null,
            "grid_auto_flow": null,
            "grid_auto_rows": null,
            "grid_column": null,
            "grid_gap": null,
            "grid_row": null,
            "grid_template_areas": null,
            "grid_template_columns": null,
            "grid_template_rows": null,
            "height": null,
            "justify_content": null,
            "justify_items": null,
            "left": null,
            "margin": null,
            "max_height": null,
            "max_width": null,
            "min_height": null,
            "min_width": null,
            "object_fit": null,
            "object_position": null,
            "order": null,
            "overflow": null,
            "overflow_x": null,
            "overflow_y": null,
            "padding": null,
            "right": null,
            "top": null,
            "visibility": null,
            "width": null
          }
        },
        "fc8b1e8d652c4637bc0f94e644e7df85": {
          "model_module": "@jupyter-widgets/controls",
          "model_name": "ProgressStyleModel",
          "model_module_version": "1.5.0",
          "state": {
            "_model_module": "@jupyter-widgets/controls",
            "_model_module_version": "1.5.0",
            "_model_name": "ProgressStyleModel",
            "_view_count": null,
            "_view_module": "@jupyter-widgets/base",
            "_view_module_version": "1.2.0",
            "_view_name": "StyleView",
            "bar_color": null,
            "description_width": ""
          }
        },
        "0eca8aa470474eeba0037dcdafa5a87e": {
          "model_module": "@jupyter-widgets/base",
          "model_name": "LayoutModel",
          "model_module_version": "1.2.0",
          "state": {
            "_model_module": "@jupyter-widgets/base",
            "_model_module_version": "1.2.0",
            "_model_name": "LayoutModel",
            "_view_count": null,
            "_view_module": "@jupyter-widgets/base",
            "_view_module_version": "1.2.0",
            "_view_name": "LayoutView",
            "align_content": null,
            "align_items": null,
            "align_self": null,
            "border": null,
            "bottom": null,
            "display": null,
            "flex": null,
            "flex_flow": null,
            "grid_area": null,
            "grid_auto_columns": null,
            "grid_auto_flow": null,
            "grid_auto_rows": null,
            "grid_column": null,
            "grid_gap": null,
            "grid_row": null,
            "grid_template_areas": null,
            "grid_template_columns": null,
            "grid_template_rows": null,
            "height": null,
            "justify_content": null,
            "justify_items": null,
            "left": null,
            "margin": null,
            "max_height": null,
            "max_width": null,
            "min_height": null,
            "min_width": null,
            "object_fit": null,
            "object_position": null,
            "order": null,
            "overflow": null,
            "overflow_x": null,
            "overflow_y": null,
            "padding": null,
            "right": null,
            "top": null,
            "visibility": null,
            "width": null
          }
        },
        "d56fd46d04fb4a2eb0c7638173f8b8ff": {
          "model_module": "@jupyter-widgets/controls",
          "model_name": "DescriptionStyleModel",
          "model_module_version": "1.5.0",
          "state": {
            "_model_module": "@jupyter-widgets/controls",
            "_model_module_version": "1.5.0",
            "_model_name": "DescriptionStyleModel",
            "_view_count": null,
            "_view_module": "@jupyter-widgets/base",
            "_view_module_version": "1.2.0",
            "_view_name": "StyleView",
            "description_width": ""
          }
        }
      }
    }
  },
  "cells": [
    {
      "cell_type": "markdown",
      "metadata": {
        "id": "view-in-github",
        "colab_type": "text"
      },
      "source": [
        "<a href=\"https://colab.research.google.com/github/xtliao/PyTorchProjects/blob/main/nn_MNIST.ipynb\" target=\"_parent\"><img src=\"https://colab.research.google.com/assets/colab-badge.svg\" alt=\"Open In Colab\"/></a>"
      ]
    },
    {
      "cell_type": "markdown",
      "source": [
        "A ConvNet practice on MNIST dataset\n"
      ],
      "metadata": {
        "id": "mw0eHPpPC3Z5"
      }
    },
    {
      "cell_type": "markdown",
      "source": [
        "# 1.&nbsp;Prep MNIST dataset and dataloader.\n",
        "\n",
        "\n"
      ],
      "metadata": {
        "id": "wbXVhTCpDODn"
      }
    },
    {
      "cell_type": "code",
      "source": [
        "import torch\n",
        "import torchvision\n",
        "from torchvision.datasets import MNIST\n",
        "from torch.utils.data import DataLoader\n",
        "from torchvision import transforms\n",
        "\n",
        "device = torch.device(\"cuda\" if torch.cuda.is_available() else \"cpu\")\n",
        "device\n"
      ],
      "metadata": {
        "colab": {
          "base_uri": "https://localhost:8080/"
        },
        "id": "jKDIgMegG2Wh",
        "outputId": "9f576019-6ac7-4731-ca0e-faed4f6fad8e"
      },
      "execution_count": 135,
      "outputs": [
        {
          "output_type": "execute_result",
          "data": {
            "text/plain": [
              "device(type='cpu')"
            ]
          },
          "metadata": {},
          "execution_count": 135
        }
      ]
    },
    {
      "cell_type": "markdown",
      "source": [
        "## 1.1. Get the train and test dataset from MNIST dataset"
      ],
      "metadata": {
        "id": "3Ktj1sufJHVb"
      }
    },
    {
      "cell_type": "code",
      "source": [
        "train_dataset = MNIST(root=\"data\",\n",
        "                      train=True,\n",
        "                      transform=transforms.ToTensor(),\n",
        "                      target_transform=None,\n",
        "                      download=True\n",
        "                      )\n",
        "test_dataset = MNIST(root=\"data\",\n",
        "                      train=False,\n",
        "                      transform=transforms.ToTensor(),\n",
        "                      target_transform=None,\n",
        "                      download=True\n",
        "                      )\n",
        "\n",
        "print(f\"Length of train dataset: {len(train_dataset):,}\\n\")\n",
        "print(f\"Length of test dataset: {len(test_dataset):,}\\n\")\n",
        "\n",
        "input, label = train_dataset[0]\n",
        "print(f\"Shape of input: {input.shape} \\n\")\n",
        "print(f\"Lable: {label} \\n\")\n",
        "\n",
        "class_names = train_dataset.classes\n",
        "print(f\"There are {len(class_names)} classes in the dataset: \\n\")\n",
        "print(f\"{class_names}\")"
      ],
      "metadata": {
        "colab": {
          "base_uri": "https://localhost:8080/"
        },
        "id": "fWJEiticHhQC",
        "outputId": "f09eeef8-8a86-4ac9-9ee8-0cb5f286cbf4"
      },
      "execution_count": 136,
      "outputs": [
        {
          "output_type": "stream",
          "name": "stdout",
          "text": [
            "Length of train dataset: 60,000\n",
            "\n",
            "Length of test dataset: 10,000\n",
            "\n",
            "Shape of input: torch.Size([1, 28, 28]) \n",
            "\n",
            "Lable: 5 \n",
            "\n",
            "There are 10 classes in the dataset: \n",
            "\n",
            "['0 - zero', '1 - one', '2 - two', '3 - three', '4 - four', '5 - five', '6 - six', '7 - seven', '8 - eight', '9 - nine']\n"
          ]
        }
      ]
    },
    {
      "cell_type": "markdown",
      "source": [
        "## 1.2. Plot some random data from the train dataset"
      ],
      "metadata": {
        "id": "fZ88x5g_JOab"
      }
    },
    {
      "cell_type": "code",
      "source": [
        "import matplotlib.pyplot as plt\n",
        "import numpy as np\n",
        "import random\n",
        "\n",
        "NUM_SAMPLES = 5\n",
        "random_sample_ids = random.sample(range(0, len(train_dataset)), k=NUM_SAMPLES)\n",
        "random_sample_ids\n",
        "\n",
        "fig, axs = plt.subplots(1, NUM_SAMPLES)\n",
        "for i, idx in enumerate(random_sample_ids):\n",
        "  axs[i].imshow(train_dataset[idx][0].squeeze(), cmap=\"gray\")\n",
        "  axs[i].axis(False)\n",
        "  axs[i].set_title(f\"idx={idx}\")\n"
      ],
      "metadata": {
        "colab": {
          "base_uri": "https://localhost:8080/",
          "height": 144
        },
        "id": "uoDn12J_ILnj",
        "outputId": "439a53ab-4fab-4111-dabe-c7b55fbfea5a"
      },
      "execution_count": 137,
      "outputs": [
        {
          "output_type": "display_data",
          "data": {
            "text/plain": [
              "<Figure size 640x480 with 5 Axes>"
            ],
            "image/png": "[encoded data removed]"
          },
          "metadata": {}
        }
      ]
    },
    {
      "cell_type": "markdown",
      "source": [
        "## 1.3 Convert into dataloader"
      ],
      "metadata": {
        "id": "EZ3QexRtE2TT"
      }
    },
    {
      "cell_type": "code",
      "source": [
        "BATCH_SIZE = 32\n",
        "\n",
        "train_dataloder = DataLoader(dataset=train_dataset,\n",
        "                             batch_size=BATCH_SIZE,\n",
        "                             shuffle=True)\n",
        "\n",
        "test_dataloder = DataLoader(dataset=test_dataset,\n",
        "                            batch_size=BATCH_SIZE,\n",
        "                            shuffle=False)\n",
        "\n",
        "print(f\"Length of train dataloder: {len(train_dataloder):,}\\n\")\n",
        "print(f\"Length of test dataloder: {len(test_dataloder):,}\\n\")\n"
      ],
      "metadata": {
        "colab": {
          "base_uri": "https://localhost:8080/"
        },
        "id": "RZLBjoVpFB6F",
        "outputId": "a22f69f3-7ef6-4cd3-8206-a4ecd5b53006"
      },
      "execution_count": 138,
      "outputs": [
        {
          "output_type": "stream",
          "name": "stdout",
          "text": [
            "Length of train dataloder: 1,875\n",
            "\n",
            "Length of test dataloder: 313\n",
            "\n"
          ]
        }
      ]
    },
    {
      "cell_type": "markdown",
      "source": [
        "# 2.&nbsp;Define training and testing loop functions."
      ],
      "metadata": {
        "id": "srHVtz6SDcVz"
      }
    },
    {
      "cell_type": "markdown",
      "source": [
        "## 2.1 Define train_loop()"
      ],
      "metadata": {
        "id": "BsUrMp3jF5E1"
      }
    },
    {
      "cell_type": "code",
      "source": [
        "def train_loop(model: torch.nn.Module,\n",
        "               train_dataloder: torch.utils.data.DataLoader,\n",
        "               optimizer: torch.optim.Optimizer,\n",
        "               loss_fn: torch.nn.Module,\n",
        "               metric_fn,\n",
        "               device: torch.device = device):\n",
        "  model.train()\n",
        "  model.to(device)\n",
        "\n",
        "  train_loss, train_metric = 0, 0\n",
        "  for batch, (X, y) in enumerate(train_dataloder):\n",
        "    X, y = X.to(device), y.to(device)\n",
        "    y_logits = model(X)\n",
        "    loss = loss_fn(y_logits, y)\n",
        "\n",
        "    y_prob = y_logits.softmax(dim=1).argmax(dim=1)\n",
        "    metric = metric_fn(y_prob, y)\n",
        "\n",
        "    train_loss += loss.detach()\n",
        "    train_metric += metric.detach()\n",
        "\n",
        "    optimizer.zero_grad()\n",
        "    loss.backward()\n",
        "    optimizer.step()\n",
        "\n",
        "  return train_loss/len(train_dataloder), train_metric/len(train_dataloder)\n"
      ],
      "metadata": {
        "id": "GGdtXODNF1FZ"
      },
      "execution_count": 139,
      "outputs": []
    },
    {
      "cell_type": "markdown",
      "source": [
        "## 2.2 Define test_loop()"
      ],
      "metadata": {
        "id": "ufDd0YUdHeRG"
      }
    },
    {
      "cell_type": "code",
      "source": [
        "def test_loop(model: torch.nn.Module,\n",
        "              test_dataloder: torch.utils.data.DataLoader,\n",
        "              optimizer: torch.optim.Optimizer,\n",
        "              loss_fn: torch.nn.Module,\n",
        "              metric_fn,\n",
        "              device: torch.device = device):\n",
        "  model.eval()\n",
        "  model.to(device)\n",
        "\n",
        "  with torch.inference_mode():\n",
        "    test_loss, test_metric = 0 ,0\n",
        "    for batch, (X_test, y_test) in enumerate(test_dataloder):\n",
        "      X_test, y_test = X_test.to(device), y_test.to(device)\n",
        "      test_logits = model(X_test)\n",
        "      loss = loss_fn(test_logits, y_test)\n",
        "\n",
        "      test_prob = test_logits.softmax(dim=1).argmax(dim=1)\n",
        "      metric = metric_fn(test_prob, y_test)\n",
        "\n",
        "      test_loss += loss.detach()\n",
        "      test_metric += metric.detach()\n",
        "\n",
        "  return test_loss/len(test_dataloder), test_metric/len(test_dataloder)"
      ],
      "metadata": {
        "id": "w8RuPyb-Hi9M"
      },
      "execution_count": 140,
      "outputs": []
    },
    {
      "cell_type": "markdown",
      "source": [
        "# 3.&nbsp;Define training model function to use training and test loop functions."
      ],
      "metadata": {
        "id": "2fOVx3F-FwYl"
      }
    },
    {
      "cell_type": "code",
      "source": [
        "from tqdm.auto import tqdm\n",
        "\n",
        "def train_model(model: torch.nn.Module,\n",
        "                train_dataloder: torch.utils.data.DataLoader,\n",
        "                test_dataloder: torch.utils.data.DataLoader,\n",
        "                optimizer: torch.optim.Optimizer,\n",
        "                loss_fn: torch.nn.Module,\n",
        "                metric_fn,\n",
        "                device: torch.device = device,\n",
        "                epochs: int = 5):\n",
        "\n",
        "  results = {\"train_loss\": [],\n",
        "            \"train_metric\": [],\n",
        "            \"test_loss\":[],\n",
        "            \"test_metric\": []}\n",
        "\n",
        "  for epoch in tqdm(range(epochs), desc=\"Training model...\"):\n",
        "    train_loss, train_metric = train_loop(model=model,\n",
        "                                          train_dataloder=train_dataloder,\n",
        "                                          optimizer=optimizer,\n",
        "                                          loss_fn = loss_fn,\n",
        "                                          metric_fn=metric_fn,\n",
        "                                          device=device)\n",
        "\n",
        "    test_loss, test_metric = test_loop(model=model,\n",
        "                                       test_dataloder=test_dataloder,\n",
        "                                       optimizer=optimizer,\n",
        "                                       loss_fn= loss_fn,\n",
        "                                       metric_fn = metric_fn,\n",
        "                                       device=device)\n",
        "\n",
        "    print(f\"Epoch:{epoch:3n} | Train loss:{train_loss:.5f}, train metric:{train_metric:.2%} | Test loss:{test_loss:.5f}, test metric:{test_metric:.2%}\")\n",
        "\n",
        "    results[\"train_loss\"].append(train_loss.item())\n",
        "    results[\"train_metric\"].append(train_metric.item())\n",
        "    results[\"test_loss\"].append(test_loss.item())\n",
        "    results[\"test_metric\"].append(test_metric.item())\n",
        "\n",
        "  return results"
      ],
      "metadata": {
        "id": "xNV8tYWeIwiK"
      },
      "execution_count": 141,
      "outputs": []
    },
    {
      "cell_type": "markdown",
      "source": [
        "# 4.&nbsp;Define model by replicating CNN Explainer: https://poloclub.github.io/cnn-explainer/"
      ],
      "metadata": {
        "id": "420D1hW1Fwlu"
      }
    },
    {
      "cell_type": "markdown",
      "source": [
        "## 4.1 Define the model class"
      ],
      "metadata": {
        "id": "HMZFe7f9P5V2"
      }
    },
    {
      "cell_type": "code",
      "source": [
        "import torch.nn as nn\n",
        "\n",
        "class MyMNISTModel(nn.Module):\n",
        "  def __init__(self, input_shapes: int, hidden_units: int, output_shapes: int):\n",
        "    super().__init__()\n",
        "    self.conv1 = nn.Sequential(\n",
        "        nn.Conv2d(in_channels=input_shapes,\n",
        "                  out_channels=hidden_units,\n",
        "                  kernel_size=3,\n",
        "                  stride=1,\n",
        "                  padding=1),\n",
        "        nn.ReLU(),\n",
        "        nn.Conv2d(hidden_units, hidden_units,3, 1, 1),\n",
        "        nn.ReLU(),\n",
        "        nn.MaxPool2d(kernel_size=2)\n",
        "    )\n",
        "    self.conv2 = nn.Sequential(\n",
        "    nn.Conv2d(hidden_units, hidden_units,3, 1, 1),\n",
        "    nn.ReLU(),\n",
        "    nn.Conv2d(hidden_units, hidden_units,3, 1, 1),\n",
        "    nn.ReLU(),\n",
        "    nn.MaxPool2d(kernel_size=2)\n",
        "    )\n",
        "    self.classifier = nn.Sequential(\n",
        "        nn.Flatten(),\n",
        "        nn.Linear(in_features=hidden_units * 7 * 7,\n",
        "                  out_features=output_shapes)\n",
        "    )\n",
        "\n",
        "  def forward(self, x: torch.Tensor) -> torch.Tensor:\n",
        "    x = self.conv1(x)\n",
        "    # print(f\"Shape after conv1:{x.shape}\")\n",
        "    x = self.conv2(x)\n",
        "    # print(f\"Shape after conv2:{x.shape}\")\n",
        "    x = self.classifier(x)\n",
        "    # print(f\"Shape after classifier:{x.shape}\")\n",
        "    return x\n",
        "\n",
        "model_0 = MyMNISTModel(input_shapes=1,\n",
        "                       hidden_units=10,\n",
        "                       output_shapes=len(class_names))\n",
        "model_0\n"
      ],
      "metadata": {
        "colab": {
          "base_uri": "https://localhost:8080/"
        },
        "id": "yjttp7qgKs38",
        "outputId": "1f697b48-4042-4582-d663-f7a276c44a94"
      },
      "execution_count": 142,
      "outputs": [
        {
          "output_type": "execute_result",
          "data": {
            "text/plain": [
              "MyMNISTModel(\n",
              "  (conv1): Sequential(\n",
              "    (0): Conv2d(1, 10, kernel_size=(3, 3), stride=(1, 1), padding=(1, 1))\n",
              "    (1): ReLU()\n",
              "    (2): Conv2d(10, 10, kernel_size=(3, 3), stride=(1, 1), padding=(1, 1))\n",
              "    (3): ReLU()\n",
              "    (4): MaxPool2d(kernel_size=2, stride=2, padding=0, dilation=1, ceil_mode=False)\n",
              "  )\n",
              "  (conv2): Sequential(\n",
              "    (0): Conv2d(10, 10, kernel_size=(3, 3), stride=(1, 1), padding=(1, 1))\n",
              "    (1): ReLU()\n",
              "    (2): Conv2d(10, 10, kernel_size=(3, 3), stride=(1, 1), padding=(1, 1))\n",
              "    (3): ReLU()\n",
              "    (4): MaxPool2d(kernel_size=2, stride=2, padding=0, dilation=1, ceil_mode=False)\n",
              "  )\n",
              "  (classifier): Sequential(\n",
              "    (0): Flatten(start_dim=1, end_dim=-1)\n",
              "    (1): Linear(in_features=490, out_features=10, bias=True)\n",
              "  )\n",
              ")"
            ]
          },
          "metadata": {},
          "execution_count": 142
        }
      ]
    },
    {
      "cell_type": "markdown",
      "source": [
        "## 4.2 Test the new model"
      ],
      "metadata": {
        "id": "uZ_TklniP-ZD"
      }
    },
    {
      "cell_type": "code",
      "source": [
        "X, y = train_dataset[0]\n",
        "y_pred = model_0(X.unsqueeze(0)).softmax(dim=1).argmax(dim=1)\n",
        "print(f\"X.shape:{X.shape}, y:{y}, prediction:{y_pred.item()}\")"
      ],
      "metadata": {
        "colab": {
          "base_uri": "https://localhost:8080/"
        },
        "id": "4dT8XFWsQIeB",
        "outputId": "cb4610ae-10ba-4a8f-eb0c-d9a8f22549fb"
      },
      "execution_count": 143,
      "outputs": [
        {
          "output_type": "stream",
          "name": "stdout",
          "text": [
            "X.shape:torch.Size([1, 28, 28]), y:5, prediction:1\n"
          ]
        }
      ]
    },
    {
      "cell_type": "markdown",
      "source": [
        "# 5.&nbsp;Define loss function, accuracy function and optimizer."
      ],
      "metadata": {
        "id": "GW4bmI-bFwpS"
      }
    },
    {
      "cell_type": "markdown",
      "source": [
        "## 5.1. Use metric functions in trochmetrics package"
      ],
      "metadata": {
        "id": "eLwq86RXRcUG"
      }
    },
    {
      "cell_type": "code",
      "source": [
        "try:\n",
        "  import torchmetrics\n",
        "except:\n",
        "  !pip install torchmetrics --quiet\n",
        "  import torchmetrics"
      ],
      "metadata": {
        "id": "rIoHU7GvRFUS"
      },
      "execution_count": 144,
      "outputs": []
    },
    {
      "cell_type": "markdown",
      "source": [
        "## 5.2. Define the functions"
      ],
      "metadata": {
        "id": "mX1IXPG1RofH"
      }
    },
    {
      "cell_type": "code",
      "source": [
        "optimizer = torch.optim.Adam(params=model_0.parameters(), lr = 0.01)\n",
        "loss_fn = torch.nn.CrossEntropyLoss()\n",
        "\n",
        "from torchmetrics.classification import MulticlassAccuracy\n",
        "acc_fn = MulticlassAccuracy(num_classes=len(class_names))"
      ],
      "metadata": {
        "id": "aTsL2JoBRwGk"
      },
      "execution_count": 145,
      "outputs": []
    },
    {
      "cell_type": "markdown",
      "source": [
        "# 6.&nbsp;Train the model."
      ],
      "metadata": {
        "id": "afghsT5jFwsm"
      }
    },
    {
      "cell_type": "code",
      "source": [
        "import timeit\n",
        "\n",
        "start = timeit.default_timer()\n",
        "\n",
        "NUM_EPOCHS = 3\n",
        "\n",
        "model_0_results = train_model(model=model_0,\n",
        "                              train_dataloder=train_dataloder,\n",
        "                              test_dataloder=test_dataloder,\n",
        "                              optimizer=optimizer,\n",
        "                              loss_fn = loss_fn,\n",
        "                              metric_fn=acc_fn,\n",
        "                              device = device,\n",
        "                              epochs=NUM_EPOCHS)\n",
        "\n",
        "end = timeit.default_timer()\n",
        "model_0_train_time = end-start\n",
        "\n",
        "print()\n",
        "print(f\"Train time is:{model_0_train_time:.2f} seconds\")\n",
        "print(f\"Train results are:\")\n",
        "print(f\"Train loss:{model_0_results['train_loss']}\")\n",
        "print(f\"Train accuracy:{model_0_results['train_metric']}\")\n",
        "print(f\"Test  loss:{model_0_results['test_loss']}\")\n",
        "print(f\"Test  accuracy:{model_0_results['test_metric']}\")\n"
      ],
      "metadata": {
        "colab": {
          "base_uri": "https://localhost:8080/",
          "height": 228,
          "referenced_widgets": [
            "580404f27fa942d6ad816ac5e8d5829a",
            "316b7786ba104cfe84d2373e598112fb",
            "db58ac7ff2fe4553b01a3baeb4e3816d",
            "3acf0c242c3246ce9ec08745e409bed2",
            "b71ac782869b4cf7914479cf05d10a2e",
            "b75c8929475b47628415a3763bdce499",
            "8ec39aa7ddfd4f16a94d0d9a996c16d0",
            "b2ce1dd333694101a362ef10d8d7fef9",
            "fc8b1e8d652c4637bc0f94e644e7df85",
            "0eca8aa470474eeba0037dcdafa5a87e",
            "d56fd46d04fb4a2eb0c7638173f8b8ff"
          ]
        },
        "id": "KFE0kKquTqaO",
        "outputId": "c16e9742-b37f-4207-b227-63d29d3fd4ff"
      },
      "execution_count": 147,
      "outputs": [
        {
          "output_type": "display_data",
          "data": {
            "text/plain": [
              "Training model...:   0%|          | 0/3 [00:00<?, ?it/s]"
            ],
            "application/vnd.jupyter.widget-view+json": {
              "version_major": 2,
              "version_minor": 0,
              "model_id": "580404f27fa942d6ad816ac5e8d5829a"
            }
          },
          "metadata": {}
        },
        {
          "output_type": "stream",
          "name": "stdout",
          "text": [
            "Epoch:  0 | Train loss:0.07905, train metric:97.44% | Test loss:0.06019, test metric:97.81%\n",
            "Epoch:  1 | Train loss:0.07747, train metric:97.43% | Test loss:0.17864, test metric:94.64%\n",
            "Epoch:  2 | Train loss:0.07961, train metric:97.37% | Test loss:0.07461, test metric:97.33%\n",
            "\n",
            "Train time is:174.22 seconds\n",
            "Train results are:\n",
            "Train loss:[0.07904668152332306, 0.0774708017706871, 0.07961226254701614]\n",
            "Train accuracy:[0.9744144678115845, 0.9743195176124573, 0.9737359285354614]\n",
            "Test  loss:[0.06018560007214546, 0.1786353439092636, 0.0746125876903534]\n",
            "Test  accuracy:[0.978083610534668, 0.94642174243927, 0.973282516002655]\n"
          ]
        }
      ]
    },
    {
      "cell_type": "markdown",
      "source": [
        "# 7.&nbsp;Make predictions and eval the model."
      ],
      "metadata": {
        "id": "eT-faJ1BFwvx"
      }
    },
    {
      "cell_type": "markdown",
      "source": [
        "## 7.1. Define the make_prediction()"
      ],
      "metadata": {
        "id": "KMQPhGt7cNJv"
      }
    },
    {
      "cell_type": "code",
      "source": [
        "def make_prediction(model: torch.nn.Module,\n",
        "                    data: torch.utils.data.Dataset,\n",
        "                    device: torch.device = device):\n",
        "  model.eval()\n",
        "  model.to(device)\n",
        "\n",
        "  with torch.inference_mode():\n",
        "    pred_probs, pred_labels = [], []\n",
        "    for sample, label in data:\n",
        "      sample = sample.to(device)\n",
        "      pred_prob = model(sample.unsqueeze(0)).softmax(dim=1).argmax(dim=1).item()\n",
        "      pred_probs.append(pred_prob)\n",
        "      pred_labels.append(label)\n",
        "  return pred_probs, pred_labels"
      ],
      "metadata": {
        "id": "DfZVD_EXcSCw"
      },
      "execution_count": 148,
      "outputs": []
    },
    {
      "cell_type": "markdown",
      "source": [
        "## 7.2. Make random predictions"
      ],
      "metadata": {
        "id": "7mOxpn6_wolM"
      }
    },
    {
      "cell_type": "code",
      "source": [
        "NUM_PLOTS = 10\n",
        "random_samples = random.sample(list(test_dataset), k=NUM_PLOTS)\n",
        "\n",
        "random_probs, random_labels = make_prediction(model=model_0,\n",
        "                                             data=random_samples,\n",
        "                                             device=device)\n",
        "\n",
        "fig, axs = plt.subplots(1, NUM_PLOTS, figsize=(10,10))\n",
        "for i in range(NUM_PLOTS):\n",
        "  axs[i].axis(False)\n",
        "  axs[i].imshow(random_samples[i][0].squeeze(), cmap=\"gray\")\n",
        "  title = f\"P:{random_probs[i]} | T:{random_labels[i]}\"\n",
        "  if random_probs[i] == random_labels[i]:\n",
        "    axs[i].set_title(title, c=\"green\")\n",
        "  else:\n",
        "    axs[i].set_title(title, c=\"red\")"
      ],
      "metadata": {
        "colab": {
          "base_uri": "https://localhost:8080/",
          "height": 125
        },
        "id": "68TxNCa5bQlZ",
        "outputId": "c9876f9e-3379-4a3a-c245-80a17cf9a1c6"
      },
      "execution_count": 149,
      "outputs": [
        {
          "output_type": "display_data",
          "data": {
            "text/plain": [
              "<Figure size 1000x1000 with 10 Axes>"
            ],
            "image/png": "[encoded data removed]"
          },
          "metadata": {}
        }
      ]
    },
    {
      "cell_type": "markdown",
      "source": [
        "# 8.&nbsp;Plot the loss and accuracy curves."
      ],
      "metadata": {
        "id": "S3_aV7syFw1V"
      }
    },
    {
      "cell_type": "code",
      "source": [
        "model_0_results\n",
        "plt.figure(figsize=(10,5))\n",
        "\n",
        "epochs=range(1, NUM_EPOCHS+1)\n",
        "\n",
        "# Plot loss\n",
        "plt.subplot(1,2,1)\n",
        "plt.plot(epochs, model_0_results[\"train_loss\"], label=\"Train loss\")\n",
        "plt.plot(epochs, model_0_results[\"test_loss\"], label=\"Test loss\")\n",
        "plt.title(\"Loss\")\n",
        "plt.xlabel(\"Epoch\")\n",
        "plt.legend()\n",
        "\n",
        "# Plot accuracy\n",
        "plt.subplot(1,2,2)\n",
        "plt.plot(epochs, model_0_results[\"train_metric\"], label=\"Train metric\")\n",
        "plt.plot(epochs, model_0_results[\"test_metric\"], label=\"Test metric\")\n",
        "plt.title(\"Accuracy\")\n",
        "plt.xlabel(\"Epoch\")\n",
        "plt.legend()"
      ],
      "metadata": {
        "colab": {
          "base_uri": "https://localhost:8080/",
          "height": 505
        },
        "id": "f_t8V11g1k7v",
        "outputId": "817a2377-7550-42f1-aa4f-47a8fb85943e"
      },
      "execution_count": 150,
      "outputs": [
        {
          "output_type": "execute_result",
          "data": {
            "text/plain": [
              "<matplotlib.legend.Legend at 0x7bcf4e16e740>"
            ]
          },
          "metadata": {},
          "execution_count": 150
        },
        {
          "output_type": "display_data",
          "data": {
            "text/plain": [
              "<Figure size 1000x500 with 2 Axes>"
            ],
            "image/png": "[encoded data removed]"
          },
          "metadata": {}
        }
      ]
    },
    {
      "cell_type": "markdown",
      "source": [
        "# 9.&nbsp;Plot the confusion matrix."
      ],
      "metadata": {
        "id": "oIGepqvyGdaN"
      }
    },
    {
      "cell_type": "markdown",
      "source": [
        "## 9.1. Make prediction for all test_dataset"
      ],
      "metadata": {
        "id": "Q269Zd7Uxx8S"
      }
    },
    {
      "cell_type": "code",
      "source": [
        "pred_probs, pred_labels = make_prediction(model=model_0,\n",
        "                                          data=test_dataset,\n",
        "                                          device= device)\n",
        "pred_probs[:5], pred_labels[:5]"
      ],
      "metadata": {
        "colab": {
          "base_uri": "https://localhost:8080/"
        },
        "id": "q0qEIo3yx-FF",
        "outputId": "94874875-36b0-44c9-fc20-8598a7ce1160"
      },
      "execution_count": 151,
      "outputs": [
        {
          "output_type": "execute_result",
          "data": {
            "text/plain": [
              "([7, 2, 1, 0, 4], [7, 2, 1, 0, 4])"
            ]
          },
          "metadata": {},
          "execution_count": 151
        }
      ]
    },
    {
      "cell_type": "markdown",
      "source": [
        "## 9.2. Calculate the confusion matrix and plot it"
      ],
      "metadata": {
        "id": "aIiU85K5x4Xm"
      }
    },
    {
      "cell_type": "code",
      "source": [
        "from torchmetrics.classification import MulticlassConfusionMatrix\n",
        "metric = MulticlassConfusionMatrix(num_classes=len(class_names))\n",
        "metric.update(torch.tensor(pred_probs), torch.tensor(pred_labels))\n",
        "metric.plot()"
      ],
      "metadata": {
        "colab": {
          "base_uri": "https://localhost:8080/",
          "height": 544
        },
        "id": "EgUHy5oBbLU1",
        "outputId": "4427eff1-77ce-4620-a59c-e67f4d48004f"
      },
      "execution_count": 152,
      "outputs": [
        {
          "output_type": "execute_result",
          "data": {
            "text/plain": [
              "(<Figure size 640x480 with 1 Axes>,\n",
              " <Axes: xlabel='Predicted class', ylabel='True class'>)"
            ]
          },
          "metadata": {},
          "execution_count": 152
        },
        {
          "output_type": "display_data",
          "data": {
            "text/plain": [
              "<Figure size 640x480 with 1 Axes>"
            ],
            "image/png": "[encoded data removed]"
          },
          "metadata": {}
        }
      ]
    },
    {
      "cell_type": "markdown",
      "source": [
        "# 10.&nbsp;Plot some of the wrong predictions."
      ],
      "metadata": {
        "id": "gbDwQ044GeZM"
      }
    },
    {
      "cell_type": "code",
      "source": [
        "wrong_predictions_ids = []\n",
        "for i in range(len(pred_probs)):\n",
        "  if pred_probs[i] != pred_labels[i]:\n",
        "    wrong_predictions_ids.append(i)\n",
        "\n",
        "random_ids = random.sample(wrong_predictions_ids, k=NUM_PLOTS)\n",
        "fig, axs = plt.subplots(1, NUM_PLOTS, figsize=(10,5))\n",
        "\n",
        "for i, idx in enumerate(random_ids):\n",
        "  axs[i].imshow(test_dataset[idx][0].squeeze(0), cmap=\"gray\")\n",
        "  axs[i].axis(False)\n",
        "  axs[i].set_title(f\"P:{pred_probs[idx]}|T:{pred_labels[idx]}\")"
      ],
      "metadata": {
        "colab": {
          "base_uri": "https://localhost:8080/",
          "height": 125
        },
        "id": "pyJXyajFWqCH",
        "outputId": "d84133a8-8d2f-4886-a7f4-596e7486be9c"
      },
      "execution_count": 177,
      "outputs": [
        {
          "output_type": "display_data",
          "data": {
            "text/plain": [
              "<Figure size 1000x500 with 10 Axes>"
            ],
            "image/png": "[encoded data removed]"
          },
          "metadata": {}
        }
      ]
    },
    {
      "cell_type": "markdown",
      "source": [
        "# 11.&nbsp;Save the model."
      ],
      "metadata": {
        "id": "qpIoT1x9Ge3t"
      }
    },
    {
      "cell_type": "markdown",
      "source": [
        "## 11.1. Save the state_dict"
      ],
      "metadata": {
        "id": "VcjKlJRe4Yk1"
      }
    },
    {
      "cell_type": "code",
      "source": [
        "from pathlib import Path\n",
        "MODEL_PATH = Path(\"model\")\n",
        "MODEL_PATH.mkdir(parents=True, exist_ok=True)\n",
        "\n",
        "MODEL_NAME = \"PyTorch_NeuralNetwork_MNIST.pth\"\n",
        "MODEL_SAVE_PATH = MODEL_PATH / MODEL_NAME\n",
        "print(f\"Saving model state_dict to {MODEL_SAVE_PATH}\\n\")\n",
        "\n",
        "torch.save(obj=model_0.state_dict(), f=MODEL_SAVE_PATH)\n",
        "print(f\"list all files in the model folder:\")\n",
        "!ls -l model"
      ],
      "metadata": {
        "colab": {
          "base_uri": "https://localhost:8080/"
        },
        "id": "h4nLRKBE4c5D",
        "outputId": "a708b875-46eb-4eb5-e12e-537e1efa8257"
      },
      "execution_count": 163,
      "outputs": [
        {
          "output_type": "stream",
          "name": "stdout",
          "text": [
            "Saving model state_dict to model/PyTorch_NeuralNetwork_MNIST.pth\n",
            "\n",
            "list all files in the model folder:\n",
            "total 36\n",
            "-rw-r--r-- 1 root root 35024 Aug 21 00:26 PyTorch_NeuralNetwork_MNIST.pth\n"
          ]
        }
      ]
    },
    {
      "cell_type": "markdown",
      "source": [
        "## 11.2. Load saved state_dict"
      ],
      "metadata": {
        "id": "bQp4U9kdT_e8"
      }
    },
    {
      "cell_type": "code",
      "source": [
        "new_loaded_model = MyMNISTModel(input_shapes=1,\n",
        "                                hidden_units=10,\n",
        "                                output_shapes=len(class_names))\n",
        "new_loaded_model.load_state_dict(torch.load(f=MODEL_SAVE_PATH))\n"
      ],
      "metadata": {
        "colab": {
          "base_uri": "https://localhost:8080/"
        },
        "id": "Rs4dR0AIUEbM",
        "outputId": "9e58841b-41d1-433a-f0fa-6c65911ffce6"
      },
      "execution_count": 164,
      "outputs": [
        {
          "output_type": "execute_result",
          "data": {
            "text/plain": [
              "MyMNISTModel(\n",
              "  (conv1): Sequential(\n",
              "    (0): Conv2d(1, 10, kernel_size=(3, 3), stride=(1, 1), padding=(1, 1))\n",
              "    (1): ReLU()\n",
              "    (2): Conv2d(10, 10, kernel_size=(3, 3), stride=(1, 1), padding=(1, 1))\n",
              "    (3): ReLU()\n",
              "    (4): MaxPool2d(kernel_size=2, stride=2, padding=0, dilation=1, ceil_mode=False)\n",
              "  )\n",
              "  (conv2): Sequential(\n",
              "    (0): Conv2d(10, 10, kernel_size=(3, 3), stride=(1, 1), padding=(1, 1))\n",
              "    (1): ReLU()\n",
              "    (2): Conv2d(10, 10, kernel_size=(3, 3), stride=(1, 1), padding=(1, 1))\n",
              "    (3): ReLU()\n",
              "    (4): MaxPool2d(kernel_size=2, stride=2, padding=0, dilation=1, ceil_mode=False)\n",
              "  )\n",
              "  (classifier): Sequential(\n",
              "    (0): Flatten(start_dim=1, end_dim=-1)\n",
              "    (1): Linear(in_features=490, out_features=10, bias=True)\n",
              "  )\n",
              ")"
            ]
          },
          "metadata": {},
          "execution_count": 164
        }
      ]
    }
  ]
}