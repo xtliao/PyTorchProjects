{
  "nbformat": 4,
  "nbformat_minor": 0,
  "metadata": {
    "colab": {
      "provenance": [],
      "toc_visible": true,
      "authorship_tag": "ABX9TyMw4SsAaOEH2GOjNxozFnmd",
      "include_colab_link": true
    },
    "kernelspec": {
      "name": "python3",
      "display_name": "Python 3"
    },
    "language_info": {
      "name": "python"
    },
    "widgets": {
      "application/vnd.jupyter.widget-state+json": {
        "22b5920978894eafb7b850419f56933f": {
          "model_module": "@jupyter-widgets/controls",
          "model_name": "HBoxModel",
          "model_module_version": "1.5.0",
          "state": {
            "_dom_classes": [],
            "_model_module": "@jupyter-widgets/controls",
            "_model_module_version": "1.5.0",
            "_model_name": "HBoxModel",
            "_view_count": null,
            "_view_module": "@jupyter-widgets/controls",
            "_view_module_version": "1.5.0",
            "_view_name": "HBoxView",
            "box_style": "",
            "children": [
              "IPY_MODEL_fc70643324ba4b6794a5c91e335990c8",
              "IPY_MODEL_7a3276fe9e9544b2aaa443ad20af1321",
              "IPY_MODEL_5066c08e95ff44f988911f13c494fe20"
            ],
            "layout": "IPY_MODEL_6a545328933e4c9586ecc861987f77ce"
          }
        },
        "fc70643324ba4b6794a5c91e335990c8": {
          "model_module": "@jupyter-widgets/controls",
          "model_name": "HTMLModel",
          "model_module_version": "1.5.0",
          "state": {
            "_dom_classes": [],
            "_model_module": "@jupyter-widgets/controls",
            "_model_module_version": "1.5.0",
            "_model_name": "HTMLModel",
            "_view_count": null,
            "_view_module": "@jupyter-widgets/controls",
            "_view_module_version": "1.5.0",
            "_view_name": "HTMLView",
            "description": "",
            "description_tooltip": null,
            "layout": "IPY_MODEL_8bbe843e85c84f2f889af86da58223eb",
            "placeholder": "​",
            "style": "IPY_MODEL_30b9adf607f4415ea552b985b4da7f68",
            "value": "Training model...: 100%"
          }
        },
        "7a3276fe9e9544b2aaa443ad20af1321": {
          "model_module": "@jupyter-widgets/controls",
          "model_name": "FloatProgressModel",
          "model_module_version": "1.5.0",
          "state": {
            "_dom_classes": [],
            "_model_module": "@jupyter-widgets/controls",
            "_model_module_version": "1.5.0",
            "_model_name": "FloatProgressModel",
            "_view_count": null,
            "_view_module": "@jupyter-widgets/controls",
            "_view_module_version": "1.5.0",
            "_view_name": "ProgressView",
            "bar_style": "success",
            "description": "",
            "description_tooltip": null,
            "layout": "IPY_MODEL_c35ba1a8378742468b18d9e1a0ffcb02",
            "max": 3,
            "min": 0,
            "orientation": "horizontal",
            "style": "IPY_MODEL_b0ec05e9f12d438f91fdb5a00fa0ec08",
            "value": 3
          }
        },
        "5066c08e95ff44f988911f13c494fe20": {
          "model_module": "@jupyter-widgets/controls",
          "model_name": "HTMLModel",
          "model_module_version": "1.5.0",
          "state": {
            "_dom_classes": [],
            "_model_module": "@jupyter-widgets/controls",
            "_model_module_version": "1.5.0",
            "_model_name": "HTMLModel",
            "_view_count": null,
            "_view_module": "@jupyter-widgets/controls",
            "_view_module_version": "1.5.0",
            "_view_name": "HTMLView",
            "description": "",
            "description_tooltip": null,
            "layout": "IPY_MODEL_fcc688bb33c143e786ff8c8cf2067425",
            "placeholder": "​",
            "style": "IPY_MODEL_b9f099932b8f436fa3b0077f9f088a7b",
            "value": " 3/3 [02:59&lt;00:00, 59.87s/it]"
          }
        },
        "6a545328933e4c9586ecc861987f77ce": {
          "model_module": "@jupyter-widgets/base",
          "model_name": "LayoutModel",
          "model_module_version": "1.2.0",
          "state": {
            "_model_module": "@jupyter-widgets/base",
            "_model_module_version": "1.2.0",
            "_model_name": "LayoutModel",
            "_view_count": null,
            "_view_module": "@jupyter-widgets/base",
            "_view_module_version": "1.2.0",
            "_view_name": "LayoutView",
            "align_content": null,
            "align_items": null,
            "align_self": null,
            "border": null,
            "bottom": null,
            "display": null,
            "flex": null,
            "flex_flow": null,
            "grid_area": null,
            "grid_auto_columns": null,
            "grid_auto_flow": null,
            "grid_auto_rows": null,
            "grid_column": null,
            "grid_gap": null,
            "grid_row": null,
            "grid_template_areas": null,
            "grid_template_columns": null,
            "grid_template_rows": null,
            "height": null,
            "justify_content": null,
            "justify_items": null,
            "left": null,
            "margin": null,
            "max_height": null,
            "max_width": null,
            "min_height": null,
            "min_width": null,
            "object_fit": null,
            "object_position": null,
            "order": null,
            "overflow": null,
            "overflow_x": null,
            "overflow_y": null,
            "padding": null,
            "right": null,
            "top": null,
            "visibility": null,
            "width": null
          }
        },
        "8bbe843e85c84f2f889af86da58223eb": {
          "model_module": "@jupyter-widgets/base",
          "model_name": "LayoutModel",
          "model_module_version": "1.2.0",
          "state": {
            "_model_module": "@jupyter-widgets/base",
            "_model_module_version": "1.2.0",
            "_model_name": "LayoutModel",
            "_view_count": null,
            "_view_module": "@jupyter-widgets/base",
            "_view_module_version": "1.2.0",
            "_view_name": "LayoutView",
            "align_content": null,
            "align_items": null,
            "align_self": null,
            "border": null,
            "bottom": null,
            "display": null,
            "flex": null,
            "flex_flow": null,
            "grid_area": null,
            "grid_auto_columns": null,
            "grid_auto_flow": null,
            "grid_auto_rows": null,
            "grid_column": null,
            "grid_gap": null,
            "grid_row": null,
            "grid_template_areas": null,
            "grid_template_columns": null,
            "grid_template_rows": null,
            "height": null,
            "justify_content": null,
            "justify_items": null,
            "left": null,
            "margin": null,
            "max_height": null,
            "max_width": null,
            "min_height": null,
            "min_width": null,
            "object_fit": null,
            "object_position": null,
            "order": null,
            "overflow": null,
            "overflow_x": null,
            "overflow_y": null,
            "padding": null,
            "right": null,
            "top": null,
            "visibility": null,
            "width": null
          }
        },
        "30b9adf607f4415ea552b985b4da7f68": {
          "model_module": "@jupyter-widgets/controls",
          "model_name": "DescriptionStyleModel",
          "model_module_version": "1.5.0",
          "state": {
            "_model_module": "@jupyter-widgets/controls",
            "_model_module_version": "1.5.0",
            "_model_name": "DescriptionStyleModel",
            "_view_count": null,
            "_view_module": "@jupyter-widgets/base",
            "_view_module_version": "1.2.0",
            "_view_name": "StyleView",
            "description_width": ""
          }
        },
        "c35ba1a8378742468b18d9e1a0ffcb02": {
          "model_module": "@jupyter-widgets/base",
          "model_name": "LayoutModel",
          "model_module_version": "1.2.0",
          "state": {
            "_model_module": "@jupyter-widgets/base",
            "_model_module_version": "1.2.0",
            "_model_name": "LayoutModel",
            "_view_count": null,
            "_view_module": "@jupyter-widgets/base",
            "_view_module_version": "1.2.0",
            "_view_name": "LayoutView",
            "align_content": null,
            "align_items": null,
            "align_self": null,
            "border": null,
            "bottom": null,
            "display": null,
            "flex": null,
            "flex_flow": null,
            "grid_area": null,
            "grid_auto_columns": null,
            "grid_auto_flow": null,
            "grid_auto_rows": null,
            "grid_column": null,
            "grid_gap": null,
            "grid_row": null,
            "grid_template_areas": null,
            "grid_template_columns": null,
            "grid_template_rows": null,
            "height": null,
            "justify_content": null,
            "justify_items": null,
            "left": null,
            "margin": null,
            "max_height": null,
            "max_width": null,
            "min_height": null,
            "min_width": null,
            "object_fit": null,
            "object_position": null,
            "order": null,
            "overflow": null,
            "overflow_x": null,
            "overflow_y": null,
            "padding": null,
            "right": null,
            "top": null,
            "visibility": null,
            "width": null
          }
        },
        "b0ec05e9f12d438f91fdb5a00fa0ec08": {
          "model_module": "@jupyter-widgets/controls",
          "model_name": "ProgressStyleModel",
          "model_module_version": "1.5.0",
          "state": {
            "_model_module": "@jupyter-widgets/controls",
            "_model_module_version": "1.5.0",
            "_model_name": "ProgressStyleModel",
            "_view_count": null,
            "_view_module": "@jupyter-widgets/base",
            "_view_module_version": "1.2.0",
            "_view_name": "StyleView",
            "bar_color": null,
            "description_width": ""
          }
        },
        "fcc688bb33c143e786ff8c8cf2067425": {
          "model_module": "@jupyter-widgets/base",
          "model_name": "LayoutModel",
          "model_module_version": "1.2.0",
          "state": {
            "_model_module": "@jupyter-widgets/base",
            "_model_module_version": "1.2.0",
            "_model_name": "LayoutModel",
            "_view_count": null,
            "_view_module": "@jupyter-widgets/base",
            "_view_module_version": "1.2.0",
            "_view_name": "LayoutView",
            "align_content": null,
            "align_items": null,
            "align_self": null,
            "border": null,
            "bottom": null,
            "display": null,
            "flex": null,
            "flex_flow": null,
            "grid_area": null,
            "grid_auto_columns": null,
            "grid_auto_flow": null,
            "grid_auto_rows": null,
            "grid_column": null,
            "grid_gap": null,
            "grid_row": null,
            "grid_template_areas": null,
            "grid_template_columns": null,
            "grid_template_rows": null,
            "height": null,
            "justify_content": null,
            "justify_items": null,
            "left": null,
            "margin": null,
            "max_height": null,
            "max_width": null,
            "min_height": null,
            "min_width": null,
            "object_fit": null,
            "object_position": null,
            "order": null,
            "overflow": null,
            "overflow_x": null,
            "overflow_y": null,
            "padding": null,
            "right": null,
            "top": null,
            "visibility": null,
            "width": null
          }
        },
        "b9f099932b8f436fa3b0077f9f088a7b": {
          "model_module": "@jupyter-widgets/controls",
          "model_name": "DescriptionStyleModel",
          "model_module_version": "1.5.0",
          "state": {
            "_model_module": "@jupyter-widgets/controls",
            "_model_module_version": "1.5.0",
            "_model_name": "DescriptionStyleModel",
            "_view_count": null,
            "_view_module": "@jupyter-widgets/base",
            "_view_module_version": "1.2.0",
            "_view_name": "StyleView",
            "description_width": ""
          }
        }
      }
    }
  },
  "cells": [
    {
      "cell_type": "markdown",
      "metadata": {
        "id": "view-in-github",
        "colab_type": "text"
      },
      "source": [
        "<a href=\"https://colab.research.google.com/github/xtliao/PyTorchProjects/blob/main/nn_MNIST.ipynb\" target=\"_parent\"><img src=\"https://colab.research.google.com/assets/colab-badge.svg\" alt=\"Open In Colab\"/></a>"
      ]
    },
    {
      "cell_type": "markdown",
      "source": [
        "A ConvNet practice on MNIST dataset\n"
      ],
      "metadata": {
        "id": "mw0eHPpPC3Z5"
      }
    },
    {
      "cell_type": "markdown",
      "source": [
        "# 1.&nbsp;Prep MNIST dataset and dataloader.\n",
        "\n",
        "\n"
      ],
      "metadata": {
        "id": "wbXVhTCpDODn"
      }
    },
    {
      "cell_type": "code",
      "source": [
        "import torch\n",
        "import torchvision\n",
        "from torchvision.datasets import MNIST\n",
        "from torch.utils.data import DataLoader\n",
        "from torchvision import transforms\n",
        "\n",
        "device = torch.device(\"cuda\" if torch.cuda.is_available() else \"cpu\")\n",
        "device\n"
      ],
      "metadata": {
        "colab": {
          "base_uri": "https://localhost:8080/"
        },
        "id": "jKDIgMegG2Wh",
        "outputId": "5467be97-d1c2-4eca-99ae-203b0cf6d9df"
      },
      "execution_count": 36,
      "outputs": [
        {
          "output_type": "execute_result",
          "data": {
            "text/plain": [
              "device(type='cpu')"
            ]
          },
          "metadata": {},
          "execution_count": 36
        }
      ]
    },
    {
      "cell_type": "markdown",
      "source": [
        "## 1.1. Get the train and test dataset from MNIST dataset"
      ],
      "metadata": {
        "id": "3Ktj1sufJHVb"
      }
    },
    {
      "cell_type": "code",
      "source": [
        "train_dataset = MNIST(root=\"data\",\n",
        "                      train=True,\n",
        "                      transform=transforms.ToTensor(),\n",
        "                      target_transform=None,\n",
        "                      download=True\n",
        "                      )\n",
        "test_dataset = MNIST(root=\"data\",\n",
        "                      train=False,\n",
        "                      transform=transforms.ToTensor(),\n",
        "                      target_transform=None,\n",
        "                      download=True\n",
        "                      )\n",
        "\n",
        "print(f\"Length of train dataset: {len(train_dataset):,}\\n\")\n",
        "print(f\"Length of test dataset: {len(test_dataset):,}\\n\")\n",
        "\n",
        "input, label = train_dataset[0]\n",
        "print(f\"Shape of input: {input.shape} \\n\")\n",
        "print(f\"Lable: {label} \\n\")\n",
        "\n",
        "class_names = train_dataset.classes\n",
        "print(f\"There are {len(class_names)} classes in the dataset: \\n\")\n",
        "print(f\"{class_names}\")"
      ],
      "metadata": {
        "colab": {
          "base_uri": "https://localhost:8080/"
        },
        "id": "fWJEiticHhQC",
        "outputId": "10bdb2b3-a802-4b45-b064-726d1cc1e181"
      },
      "execution_count": 37,
      "outputs": [
        {
          "output_type": "stream",
          "name": "stdout",
          "text": [
            "Length of train dataset: 60,000\n",
            "\n",
            "Length of test dataset: 10,000\n",
            "\n",
            "Shape of input: torch.Size([1, 28, 28]) \n",
            "\n",
            "Lable: 5 \n",
            "\n",
            "There are 10 classes in the dataset: \n",
            "\n",
            "['0 - zero', '1 - one', '2 - two', '3 - three', '4 - four', '5 - five', '6 - six', '7 - seven', '8 - eight', '9 - nine']\n"
          ]
        }
      ]
    },
    {
      "cell_type": "markdown",
      "source": [
        "## 1.2. Plot some random data from the train dataset"
      ],
      "metadata": {
        "id": "fZ88x5g_JOab"
      }
    },
    {
      "cell_type": "code",
      "source": [
        "import matplotlib.pyplot as plt\n",
        "import numpy as np\n",
        "import random\n",
        "\n",
        "NUM_SAMPLES = 5\n",
        "random_sample_ids = random.sample(range(0, len(train_dataset)), k=NUM_SAMPLES)\n",
        "random_sample_ids\n",
        "\n",
        "fig, axs = plt.subplots(1, NUM_SAMPLES)\n",
        "for i, idx in enumerate(random_sample_ids):\n",
        "  axs[i].imshow(train_dataset[idx][0].squeeze(), cmap=\"gray\")\n",
        "  axs[i].axis(False)\n",
        "  axs[i].set_title(f\"idx={idx}\")\n"
      ],
      "metadata": {
        "colab": {
          "base_uri": "https://localhost:8080/",
          "height": 144
        },
        "id": "uoDn12J_ILnj",
        "outputId": "aa878faf-8aed-4c73-c1b5-782a7b55e09c"
      },
      "execution_count": 38,
      "outputs": [
        {
          "output_type": "display_data",
          "data": {
            "text/plain": [
              "<Figure size 640x480 with 5 Axes>"
            ],
            "image/png": "[encoded data removed]"
          },
          "metadata": {}
        }
      ]
    },
    {
      "cell_type": "markdown",
      "source": [
        "## 1.3 Convert into dataloader"
      ],
      "metadata": {
        "id": "EZ3QexRtE2TT"
      }
    },
    {
      "cell_type": "code",
      "source": [
        "BATCH_SIZE = 32\n",
        "\n",
        "train_dataloder = DataLoader(dataset=train_dataset,\n",
        "                             batch_size=BATCH_SIZE,\n",
        "                             shuffle=True)\n",
        "\n",
        "test_dataloder = DataLoader(dataset=test_dataset,\n",
        "                            batch_size=BATCH_SIZE,\n",
        "                            shuffle=False)\n",
        "\n",
        "print(f\"Length of train dataloder: {len(train_dataloder):,}\\n\")\n",
        "print(f\"Length of test dataloder: {len(test_dataloder):,}\\n\")\n"
      ],
      "metadata": {
        "colab": {
          "base_uri": "https://localhost:8080/"
        },
        "id": "RZLBjoVpFB6F",
        "outputId": "8bfadf90-79bd-4492-9b06-4483f3cbf973"
      },
      "execution_count": 39,
      "outputs": [
        {
          "output_type": "stream",
          "name": "stdout",
          "text": [
            "Length of train dataloder: 1,875\n",
            "\n",
            "Length of test dataloder: 313\n",
            "\n"
          ]
        }
      ]
    },
    {
      "cell_type": "markdown",
      "source": [
        "# 2.&nbsp;Define training and testing loop functions."
      ],
      "metadata": {
        "id": "srHVtz6SDcVz"
      }
    },
    {
      "cell_type": "markdown",
      "source": [
        "## 2.1 Define train_loop()"
      ],
      "metadata": {
        "id": "BsUrMp3jF5E1"
      }
    },
    {
      "cell_type": "code",
      "source": [
        "def train_loop(model: torch.nn.Module,\n",
        "               train_dataloder: torch.utils.data.DataLoader,\n",
        "               optimizer: torch.optim.Optimizer,\n",
        "               loss_fn: torch.nn.Module,\n",
        "               metric_fn,\n",
        "               device: torch.device = device):\n",
        "  model.train()\n",
        "  model.to(device)\n",
        "\n",
        "  train_loss, train_metric = 0, 0\n",
        "  for batch, (X, y) in enumerate(train_dataloder):\n",
        "    X, y = X.to(device), y.to(device)\n",
        "    y_logits = model(X)\n",
        "    loss = loss_fn(y_logits, y)\n",
        "\n",
        "    y_pred = y_logits.softmax(dim=1).argmax(dim=1)\n",
        "    metric = metric_fn(y_pred, y)\n",
        "\n",
        "    train_loss += loss.detach()\n",
        "    train_metric += metric.detach()\n",
        "\n",
        "    optimizer.zero_grad()\n",
        "    loss.backward()\n",
        "    optimizer.step()\n",
        "\n",
        "  return train_loss/len(train_dataloder), train_metric/len(train_dataloder)\n"
      ],
      "metadata": {
        "id": "GGdtXODNF1FZ"
      },
      "execution_count": 40,
      "outputs": []
    },
    {
      "cell_type": "markdown",
      "source": [
        "## 2.2 Define test_loop()"
      ],
      "metadata": {
        "id": "ufDd0YUdHeRG"
      }
    },
    {
      "cell_type": "code",
      "source": [
        "def test_loop(model: torch.nn.Module,\n",
        "              test_dataloder: torch.utils.data.DataLoader,\n",
        "              optimizer: torch.optim.Optimizer,\n",
        "              loss_fn: torch.nn.Module,\n",
        "              metric_fn,\n",
        "              device: torch.device = device):\n",
        "  model.eval()\n",
        "  model.to(device)\n",
        "\n",
        "  with torch.inference_mode():\n",
        "    test_loss, test_metric = 0 ,0\n",
        "    for batch, (X_test, y_test) in enumerate(test_dataloder):\n",
        "      X_test, y_test = X_test.to(device), y_test.to(device)\n",
        "      test_logits = model(X_test)\n",
        "      loss = loss_fn(test_logits, y_test)\n",
        "\n",
        "      test_pred = test_logits.softmax(dim=1).argmax(dim=1)\n",
        "      metric = metric_fn(test_pred, y_test)\n",
        "\n",
        "      test_loss += loss.detach()\n",
        "      test_metric += metric.detach()\n",
        "\n",
        "  return test_loss/len(test_dataloder), test_metric/len(test_dataloder)"
      ],
      "metadata": {
        "id": "w8RuPyb-Hi9M"
      },
      "execution_count": 41,
      "outputs": []
    },
    {
      "cell_type": "markdown",
      "source": [
        "# 3.&nbsp;Define training model function to use training and test loop functions."
      ],
      "metadata": {
        "id": "2fOVx3F-FwYl"
      }
    },
    {
      "cell_type": "code",
      "source": [
        "from tqdm.auto import tqdm\n",
        "\n",
        "def train_model(model: torch.nn.Module,\n",
        "                train_dataloder: torch.utils.data.DataLoader,\n",
        "                test_dataloder: torch.utils.data.DataLoader,\n",
        "                optimizer: torch.optim.Optimizer,\n",
        "                loss_fn: torch.nn.Module,\n",
        "                metric_fn,\n",
        "                device: torch.device = device,\n",
        "                epochs: int = 5):\n",
        "\n",
        "  results = {\"train_loss\": [],\n",
        "            \"train_metric\": [],\n",
        "            \"test_loss\":[],\n",
        "            \"test_metric\": []}\n",
        "\n",
        "  for epoch in tqdm(range(epochs), desc=\"Training model...\"):\n",
        "    train_loss, train_metric = train_loop(model=model,\n",
        "                                          train_dataloder=train_dataloder,\n",
        "                                          optimizer=optimizer,\n",
        "                                          loss_fn = loss_fn,\n",
        "                                          metric_fn=metric_fn,\n",
        "                                          device=device)\n",
        "\n",
        "    test_loss, test_metric = test_loop(model=model,\n",
        "                                       test_dataloder=test_dataloder,\n",
        "                                       optimizer=optimizer,\n",
        "                                       loss_fn= loss_fn,\n",
        "                                       metric_fn = metric_fn,\n",
        "                                       device=device)\n",
        "\n",
        "    print(f\"Epoch:{epoch:3n} | Train loss:{train_loss:.5f}, train metric:{train_metric:.2%} | Test loss:{test_loss:.5f}, test metric:{test_metric:.2%}\")\n",
        "\n",
        "    results[\"train_loss\"].append(train_loss.item())\n",
        "    results[\"train_metric\"].append(train_metric.item())\n",
        "    results[\"test_loss\"].append(test_loss.item())\n",
        "    results[\"test_metric\"].append(test_metric.item())\n",
        "\n",
        "  return results"
      ],
      "metadata": {
        "id": "xNV8tYWeIwiK"
      },
      "execution_count": 48,
      "outputs": []
    },
    {
      "cell_type": "markdown",
      "source": [
        "# 4.&nbsp;Define model by replicating CNN Explainer: https://poloclub.github.io/cnn-explainer/"
      ],
      "metadata": {
        "id": "420D1hW1Fwlu"
      }
    },
    {
      "cell_type": "markdown",
      "source": [
        "## 4.1 Define the model class"
      ],
      "metadata": {
        "id": "HMZFe7f9P5V2"
      }
    },
    {
      "cell_type": "code",
      "source": [
        "import torch.nn as nn\n",
        "\n",
        "class MyMNISTModel(nn.Module):\n",
        "  def __init__(self, input_shapes: int, hidden_units: int, output_shapes: int):\n",
        "    super().__init__()\n",
        "    self.conv1 = nn.Sequential(\n",
        "        nn.Conv2d(in_channels=input_shapes,\n",
        "                  out_channels=hidden_units,\n",
        "                  kernel_size=3,\n",
        "                  stride=1,\n",
        "                  padding=1),\n",
        "        nn.ReLU(),\n",
        "        nn.Conv2d(hidden_units, hidden_units,3, 1, 1),\n",
        "        nn.ReLU(),\n",
        "        nn.MaxPool2d(kernel_size=2)\n",
        "    )\n",
        "    self.conv2 = nn.Sequential(\n",
        "    nn.Conv2d(hidden_units, hidden_units,3, 1, 1),\n",
        "    nn.ReLU(),\n",
        "    nn.Conv2d(hidden_units, hidden_units,3, 1, 1),\n",
        "    nn.ReLU(),\n",
        "    nn.MaxPool2d(kernel_size=2)\n",
        "    )\n",
        "    self.classifier = nn.Sequential(\n",
        "        nn.Flatten(),\n",
        "        nn.Linear(in_features=hidden_units * 7 * 7,\n",
        "                  out_features=output_shapes)\n",
        "    )\n",
        "\n",
        "  def forward(self, x: torch.Tensor) -> torch.Tensor:\n",
        "    x = self.conv1(x)\n",
        "    # print(f\"Shape after conv1:{x.shape}\")\n",
        "    x = self.conv2(x)\n",
        "    # print(f\"Shape after conv2:{x.shape}\")\n",
        "    x = self.classifier(x)\n",
        "    # print(f\"Shape after classifier:{x.shape}\")\n",
        "    return x\n",
        "\n",
        "model_0 = MyMNISTModel(input_shapes=1,\n",
        "                       hidden_units=10,\n",
        "                       output_shapes=len(class_names))\n",
        "model_0\n"
      ],
      "metadata": {
        "colab": {
          "base_uri": "https://localhost:8080/"
        },
        "id": "yjttp7qgKs38",
        "outputId": "9a5df826-a138-4c52-b4c2-35f385a0f2f1"
      },
      "execution_count": 43,
      "outputs": [
        {
          "output_type": "execute_result",
          "data": {
            "text/plain": [
              "MyMNISTModel(\n",
              "  (conv1): Sequential(\n",
              "    (0): Conv2d(1, 10, kernel_size=(3, 3), stride=(1, 1), padding=(1, 1))\n",
              "    (1): ReLU()\n",
              "    (2): Conv2d(10, 10, kernel_size=(3, 3), stride=(1, 1), padding=(1, 1))\n",
              "    (3): ReLU()\n",
              "    (4): MaxPool2d(kernel_size=2, stride=2, padding=0, dilation=1, ceil_mode=False)\n",
              "  )\n",
              "  (conv2): Sequential(\n",
              "    (0): Conv2d(10, 10, kernel_size=(3, 3), stride=(1, 1), padding=(1, 1))\n",
              "    (1): ReLU()\n",
              "    (2): Conv2d(10, 10, kernel_size=(3, 3), stride=(1, 1), padding=(1, 1))\n",
              "    (3): ReLU()\n",
              "    (4): MaxPool2d(kernel_size=2, stride=2, padding=0, dilation=1, ceil_mode=False)\n",
              "  )\n",
              "  (classifier): Sequential(\n",
              "    (0): Flatten(start_dim=1, end_dim=-1)\n",
              "    (1): Linear(in_features=490, out_features=10, bias=True)\n",
              "  )\n",
              ")"
            ]
          },
          "metadata": {},
          "execution_count": 43
        }
      ]
    },
    {
      "cell_type": "markdown",
      "source": [
        "## 4.2 Test the new model"
      ],
      "metadata": {
        "id": "uZ_TklniP-ZD"
      }
    },
    {
      "cell_type": "code",
      "source": [
        "X, y = train_dataset[0]\n",
        "y_pred = model_0(X.unsqueeze(0)).softmax(dim=1).argmax(dim=1)\n",
        "print(f\"X.shape:{X.shape}, y:{y}, prediction:{y_pred.item()}\")"
      ],
      "metadata": {
        "colab": {
          "base_uri": "https://localhost:8080/"
        },
        "id": "4dT8XFWsQIeB",
        "outputId": "93d1643e-1fd0-4201-db96-eab301584d7e"
      },
      "execution_count": 44,
      "outputs": [
        {
          "output_type": "stream",
          "name": "stdout",
          "text": [
            "X.shape:torch.Size([1, 28, 28]), y:5, prediction:0\n"
          ]
        }
      ]
    },
    {
      "cell_type": "markdown",
      "source": [
        "# 5.&nbsp;Define loss function, accuracy function and optimizer."
      ],
      "metadata": {
        "id": "GW4bmI-bFwpS"
      }
    },
    {
      "cell_type": "markdown",
      "source": [
        "## 5.1. Use metric functions in trochmetrics package"
      ],
      "metadata": {
        "id": "eLwq86RXRcUG"
      }
    },
    {
      "cell_type": "code",
      "source": [
        "try:\n",
        "  import torchmetrics\n",
        "except:\n",
        "  !pip install torchmetrics --quiet\n",
        "  import torchmetrics"
      ],
      "metadata": {
        "id": "rIoHU7GvRFUS"
      },
      "execution_count": 45,
      "outputs": []
    },
    {
      "cell_type": "markdown",
      "source": [
        "## 5.2. Define the functions"
      ],
      "metadata": {
        "id": "mX1IXPG1RofH"
      }
    },
    {
      "cell_type": "code",
      "source": [
        "optimizer = torch.optim.Adam(params=model_0.parameters(), lr = 0.01)\n",
        "loss_fn = torch.nn.CrossEntropyLoss()\n",
        "\n",
        "from torchmetrics.classification import MulticlassAccuracy\n",
        "acc_fn = MulticlassAccuracy(num_classes=len(class_names))"
      ],
      "metadata": {
        "id": "aTsL2JoBRwGk"
      },
      "execution_count": 46,
      "outputs": []
    },
    {
      "cell_type": "markdown",
      "source": [
        "# 6.&nbsp;Train the model."
      ],
      "metadata": {
        "id": "afghsT5jFwsm"
      }
    },
    {
      "cell_type": "code",
      "source": [
        "import timeit\n",
        "\n",
        "\n",
        "start = timeit.default_timer()\n",
        "\n",
        "NUM_EPOCHS = 3\n",
        "\n",
        "model_0_results = train_model(model=model_0,\n",
        "                              train_dataloder=train_dataloder,\n",
        "                              test_dataloder=test_dataloder,\n",
        "                              optimizer=optimizer,\n",
        "                              loss_fn = loss_fn,\n",
        "                              metric_fn=acc_fn,\n",
        "                              device = device,\n",
        "                              epochs=NUM_EPOCHS)\n",
        "\n",
        "end = timeit.default_timer()\n",
        "model_0_train_time = end-start\n",
        "\n",
        "print()\n",
        "print(f\"Train time is:{model_0_train_time:.2f} seconds\")\n",
        "print(f\"Train results are:\")\n",
        "print(f\"Train loss:{model_0_results['train_loss']}\")\n",
        "print(f\"Train acc:{model_0_results['train_metric']}\")\n",
        "print(f\"Test loss:{model_0_results['test_loss']}\")\n",
        "print(f\"Test acc:{model_0_results['test_metric']}\")\n"
      ],
      "metadata": {
        "colab": {
          "base_uri": "https://localhost:8080/",
          "height": 245,
          "referenced_widgets": [
            "22b5920978894eafb7b850419f56933f",
            "fc70643324ba4b6794a5c91e335990c8",
            "7a3276fe9e9544b2aaa443ad20af1321",
            "5066c08e95ff44f988911f13c494fe20",
            "6a545328933e4c9586ecc861987f77ce",
            "8bbe843e85c84f2f889af86da58223eb",
            "30b9adf607f4415ea552b985b4da7f68",
            "c35ba1a8378742468b18d9e1a0ffcb02",
            "b0ec05e9f12d438f91fdb5a00fa0ec08",
            "fcc688bb33c143e786ff8c8cf2067425",
            "b9f099932b8f436fa3b0077f9f088a7b"
          ]
        },
        "id": "KFE0kKquTqaO",
        "outputId": "792b2bce-53e9-4331-82e2-290af66d2946"
      },
      "execution_count": 49,
      "outputs": [
        {
          "output_type": "display_data",
          "data": {
            "text/plain": [
              "Training model...:   0%|          | 0/3 [00:00<?, ?it/s]"
            ],
            "application/vnd.jupyter.widget-view+json": {
              "version_major": 2,
              "version_minor": 0,
              "model_id": "22b5920978894eafb7b850419f56933f"
            }
          },
          "metadata": {}
        },
        {
          "output_type": "stream",
          "name": "stdout",
          "text": [
            "Epoch:  0 | Train loss:0.10575, train metric:96.53% | Test loss:0.08141, test metric:97.28%\n",
            "Epoch:  1 | Train loss:0.09959, train metric:96.60% | Test loss:0.08850, test metric:97.08%\n",
            "Epoch:  2 | Train loss:0.09538, train metric:96.80% | Test loss:0.08868, test metric:96.70%\n",
            "\n",
            "Train time is:179.57 seconds\n",
            "Train results are:\n",
            "\n",
            "Train loss:[0.1057533398270607, 0.09958872944116592, 0.09538130462169647]\n",
            "Train acc:[0.9653108716011047, 0.9659709930419922, 0.9679707288742065]\n",
            "Test loss:[0.08140838146209717, 0.08849883824586868, 0.0886768326163292]\n",
            "test acc:[0.9728295207023621, 0.9707678556442261, 0.9670481085777283]\n"
          ]
        }
      ]
    },
    {
      "cell_type": "markdown",
      "source": [
        "# 7.&nbsp;Make predictions and eval the model."
      ],
      "metadata": {
        "id": "eT-faJ1BFwvx"
      }
    },
    {
      "cell_type": "code",
      "source": [],
      "metadata": {
        "id": "68TxNCa5bQlZ"
      },
      "execution_count": null,
      "outputs": []
    },
    {
      "cell_type": "markdown",
      "source": [
        "# 8.&nbsp;Plot the loss and accuracy curves."
      ],
      "metadata": {
        "id": "S3_aV7syFw1V"
      }
    },
    {
      "cell_type": "markdown",
      "source": [
        "# 9.&nbsp;Plot the confusion matrix."
      ],
      "metadata": {
        "id": "oIGepqvyGdaN"
      }
    },
    {
      "cell_type": "markdown",
      "source": [
        "# 10.&nbsp;Plot some of the wrong predictions."
      ],
      "metadata": {
        "id": "gbDwQ044GeZM"
      }
    },
    {
      "cell_type": "markdown",
      "source": [
        "# 11.&nbsp;Save the model."
      ],
      "metadata": {
        "id": "qpIoT1x9Ge3t"
      }
    }
  ]
}